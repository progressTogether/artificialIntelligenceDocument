{
 "cells": [
  {
   "cell_type": "markdown",
   "metadata": {},
   "source": [
    "# Titanic数据分析"
   ]
  },
  {
   "cell_type": "markdown",
   "metadata": {},
   "source": [
    "## 导入必要的工具包"
   ]
  },
  {
   "cell_type": "code",
   "execution_count": 1,
   "metadata": {
    "collapsed": true
   },
   "outputs": [],
   "source": [
    "# Imports\n",
    "\n",
    "# pandas，数据处理\n",
    "import pandas as pd\n",
    "\n",
    "# numpy, matplotlib, seaborn，作图，可视化\n",
    "import numpy as np\n",
    "import matplotlib.pyplot as plt\n",
    "import seaborn as sns\n",
    "sns.set_style('whitegrid')\n",
    "%matplotlib inline\n",
    "\n",
    "# machine learning\n",
    "from sklearn.linear_model import LogisticRegression\n",
    "#from sklearn.naive_bayes import GaussianNB\n",
    "\n",
    "#该任务其实不太适合用这两种方法，决策树合适啦"
   ]
  },
  {
   "cell_type": "markdown",
   "metadata": {},
   "source": [
    "## 读取数据，并对数据做大致分析"
   ]
  },
  {
   "cell_type": "code",
   "execution_count": 2,
   "metadata": {
    "collapsed": false
   },
   "outputs": [
    {
     "data": {
      "text/html": [
       "<div>\n",
       "<table border=\"1\" class=\"dataframe\">\n",
       "  <thead>\n",
       "    <tr style=\"text-align: right;\">\n",
       "      <th></th>\n",
       "      <th>PassengerId</th>\n",
       "      <th>Survived</th>\n",
       "      <th>Pclass</th>\n",
       "      <th>Name</th>\n",
       "      <th>Sex</th>\n",
       "      <th>Age</th>\n",
       "      <th>SibSp</th>\n",
       "      <th>Parch</th>\n",
       "      <th>Ticket</th>\n",
       "      <th>Fare</th>\n",
       "      <th>Cabin</th>\n",
       "      <th>Embarked</th>\n",
       "    </tr>\n",
       "  </thead>\n",
       "  <tbody>\n",
       "    <tr>\n",
       "      <th>0</th>\n",
       "      <td>1</td>\n",
       "      <td>0</td>\n",
       "      <td>3</td>\n",
       "      <td>Braund, Mr. Owen Harris</td>\n",
       "      <td>male</td>\n",
       "      <td>22.0</td>\n",
       "      <td>1</td>\n",
       "      <td>0</td>\n",
       "      <td>A/5 21171</td>\n",
       "      <td>7.2500</td>\n",
       "      <td>NaN</td>\n",
       "      <td>S</td>\n",
       "    </tr>\n",
       "    <tr>\n",
       "      <th>1</th>\n",
       "      <td>2</td>\n",
       "      <td>1</td>\n",
       "      <td>1</td>\n",
       "      <td>Cumings, Mrs. John Bradley (Florence Briggs Th...</td>\n",
       "      <td>female</td>\n",
       "      <td>38.0</td>\n",
       "      <td>1</td>\n",
       "      <td>0</td>\n",
       "      <td>PC 17599</td>\n",
       "      <td>71.2833</td>\n",
       "      <td>C85</td>\n",
       "      <td>C</td>\n",
       "    </tr>\n",
       "    <tr>\n",
       "      <th>2</th>\n",
       "      <td>3</td>\n",
       "      <td>1</td>\n",
       "      <td>3</td>\n",
       "      <td>Heikkinen, Miss. Laina</td>\n",
       "      <td>female</td>\n",
       "      <td>26.0</td>\n",
       "      <td>0</td>\n",
       "      <td>0</td>\n",
       "      <td>STON/O2. 3101282</td>\n",
       "      <td>7.9250</td>\n",
       "      <td>NaN</td>\n",
       "      <td>S</td>\n",
       "    </tr>\n",
       "    <tr>\n",
       "      <th>3</th>\n",
       "      <td>4</td>\n",
       "      <td>1</td>\n",
       "      <td>1</td>\n",
       "      <td>Futrelle, Mrs. Jacques Heath (Lily May Peel)</td>\n",
       "      <td>female</td>\n",
       "      <td>35.0</td>\n",
       "      <td>1</td>\n",
       "      <td>0</td>\n",
       "      <td>113803</td>\n",
       "      <td>53.1000</td>\n",
       "      <td>C123</td>\n",
       "      <td>S</td>\n",
       "    </tr>\n",
       "    <tr>\n",
       "      <th>4</th>\n",
       "      <td>5</td>\n",
       "      <td>0</td>\n",
       "      <td>3</td>\n",
       "      <td>Allen, Mr. William Henry</td>\n",
       "      <td>male</td>\n",
       "      <td>35.0</td>\n",
       "      <td>0</td>\n",
       "      <td>0</td>\n",
       "      <td>373450</td>\n",
       "      <td>8.0500</td>\n",
       "      <td>NaN</td>\n",
       "      <td>S</td>\n",
       "    </tr>\n",
       "  </tbody>\n",
       "</table>\n",
       "</div>"
      ],
      "text/plain": [
       "   PassengerId  Survived  Pclass  \\\n",
       "0            1         0       3   \n",
       "1            2         1       1   \n",
       "2            3         1       3   \n",
       "3            4         1       1   \n",
       "4            5         0       3   \n",
       "\n",
       "                                                Name     Sex   Age  SibSp  \\\n",
       "0                            Braund, Mr. Owen Harris    male  22.0      1   \n",
       "1  Cumings, Mrs. John Bradley (Florence Briggs Th...  female  38.0      1   \n",
       "2                             Heikkinen, Miss. Laina  female  26.0      0   \n",
       "3       Futrelle, Mrs. Jacques Heath (Lily May Peel)  female  35.0      1   \n",
       "4                           Allen, Mr. William Henry    male  35.0      0   \n",
       "\n",
       "   Parch            Ticket     Fare Cabin Embarked  \n",
       "0      0         A/5 21171   7.2500   NaN        S  \n",
       "1      0          PC 17599  71.2833   C85        C  \n",
       "2      0  STON/O2. 3101282   7.9250   NaN        S  \n",
       "3      0            113803  53.1000  C123        S  \n",
       "4      0            373450   8.0500   NaN        S  "
      ]
     },
     "execution_count": 2,
     "metadata": {},
     "output_type": "execute_result"
    }
   ],
   "source": [
    "# get titanic & test csv files as a DataFrame\n",
    "train = pd.read_csv(\"./data/titanic_train.csv\")\n",
    "test= pd.read_csv(\"./data/titanic_test.csv\")\n",
    "\n",
    "# preview the data\n",
    "train.head()"
   ]
  },
  {
   "cell_type": "code",
   "execution_count": 3,
   "metadata": {
    "collapsed": false
   },
   "outputs": [
    {
     "name": "stdout",
     "output_type": "stream",
     "text": [
      "<class 'pandas.core.frame.DataFrame'>\n",
      "RangeIndex: 891 entries, 0 to 890\n",
      "Data columns (total 12 columns):\n",
      "PassengerId    891 non-null int64\n",
      "Survived       891 non-null int64\n",
      "Pclass         891 non-null int64\n",
      "Name           891 non-null object\n",
      "Sex            891 non-null object\n",
      "Age            714 non-null float64\n",
      "SibSp          891 non-null int64\n",
      "Parch          891 non-null int64\n",
      "Ticket         891 non-null object\n",
      "Fare           891 non-null float64\n",
      "Cabin          204 non-null object\n",
      "Embarked       889 non-null object\n",
      "dtypes: float64(2), int64(5), object(5)\n",
      "memory usage: 83.6+ KB\n",
      "----------------------------\n",
      "<class 'pandas.core.frame.DataFrame'>\n",
      "RangeIndex: 418 entries, 0 to 417\n",
      "Data columns (total 11 columns):\n",
      "PassengerId    418 non-null int64\n",
      "Pclass         418 non-null int64\n",
      "Name           418 non-null object\n",
      "Sex            418 non-null object\n",
      "Age            332 non-null float64\n",
      "SibSp          418 non-null int64\n",
      "Parch          418 non-null int64\n",
      "Ticket         418 non-null object\n",
      "Fare           417 non-null float64\n",
      "Cabin          91 non-null object\n",
      "Embarked       418 non-null object\n",
      "dtypes: float64(2), int64(4), object(5)\n",
      "memory usage: 36.0+ KB\n"
     ]
    }
   ],
   "source": [
    "train.info()\n",
    "print(\"----------------------------\")\n",
    "test.info()"
   ]
  },
  {
   "cell_type": "code",
   "execution_count": 4,
   "metadata": {
    "collapsed": false,
    "scrolled": true
   },
   "outputs": [
    {
     "data": {
      "text/plain": [
       "PassengerId      0\n",
       "Survived         0\n",
       "Pclass           0\n",
       "Name             0\n",
       "Sex              0\n",
       "Age            177\n",
       "SibSp            0\n",
       "Parch            0\n",
       "Ticket           0\n",
       "Fare             0\n",
       "Cabin          687\n",
       "Embarked         2\n",
       "dtype: int64"
      ]
     },
     "execution_count": 4,
     "metadata": {},
     "output_type": "execute_result"
    }
   ],
   "source": [
    "### ... check for NAs\n",
    "train.isnull().sum()"
   ]
  },
  {
   "cell_type": "code",
   "execution_count": 5,
   "metadata": {
    "collapsed": false
   },
   "outputs": [
    {
     "data": {
      "text/plain": [
       "PassengerId      0\n",
       "Pclass           0\n",
       "Name             0\n",
       "Sex              0\n",
       "Age             86\n",
       "SibSp            0\n",
       "Parch            0\n",
       "Ticket           0\n",
       "Fare             1\n",
       "Cabin          327\n",
       "Embarked         0\n",
       "dtype: int64"
      ]
     },
     "execution_count": 5,
     "metadata": {},
     "output_type": "execute_result"
    }
   ],
   "source": [
    "test.isnull().sum()"
   ]
  },
  {
   "cell_type": "code",
   "execution_count": 6,
   "metadata": {
    "collapsed": false
   },
   "outputs": [],
   "source": [
    "# 去掉不相关的特征（对预测没用）\n",
    "#也有人从Name中分离出Title（如Master， Mr. ...）作为新特征\n",
    "#存放用于Logstic回归的特征\n",
    "train = train.drop(['PassengerId','Name','Ticket','Cabin'], axis=1)\n",
    "test = test.drop(['Name','Ticket','Cabin'], axis=1)\n",
    "\n",
    "#用于计算朴素贝叶斯的概率\n",
    "#prob_train_NotSurvived = pd.DataFrame(train)\n",
    "#prob_train_Survived = pd.DataFrame(train)\n",
    "\n",
    "#prob_test_NotSurvived = pd.DataFrame(test)\n",
    "#prob_test_Survived = pd.DataFrame(test)\n",
    "\n",
    "N_train = train.shape[0]\n",
    "N_test = test.shape[0]\n",
    "\n",
    "prob_train_NotSurvived = pd.DataFrame({\n",
    "        \"Sex\": np.ones(N_train),    \n",
    "        \"Pclass\": np.ones(N_train),\n",
    "        \"Family\": np.ones(N_train),\n",
    "        \"Age\": np.ones(N_train),\n",
    "        \"Fare\": np.ones(N_train)  \n",
    "    })\n",
    "\n",
    "prob_train_Survived = pd.DataFrame({\n",
    "        \"Sex\": np.ones(N_train),    \n",
    "        \"Pclass\": np.ones(N_train),\n",
    "        \"Family\": np.ones(N_train),\n",
    "        \"Age\": np.ones(N_train),\n",
    "        \"Fare\": np.ones(N_train)  \n",
    "    })\n",
    "\n",
    "\n",
    "prob_test_NotSurvived = pd.DataFrame({\n",
    "        \"Sex\": np.ones(N_test),    \n",
    "        \"Pclass\": np.ones(N_test),\n",
    "        \"Family\": np.ones(N_test),\n",
    "        \"Age\": np.ones(N_test),\n",
    "        \"Fare\": np.ones(N_test)   \n",
    "    })\n",
    "\n",
    "prob_test_Survived = pd.DataFrame({\n",
    "        \"Sex\": np.ones(N_test),    \n",
    "        \"Pclass\": np.ones(N_test),\n",
    "        \"Family\": np.ones(N_test),\n",
    "        \"Age\": np.ones(N_test),\n",
    "        \"Fare\": np.ones(N_test)   \n",
    "    })"
   ]
  },
  {
   "cell_type": "markdown",
   "metadata": {},
   "source": [
    "## 目标 Survived，乘客是否生存\n",
    "直方图\n",
    "类先验"
   ]
  },
  {
   "cell_type": "code",
   "execution_count": 7,
   "metadata": {
    "collapsed": false,
    "scrolled": true
   },
   "outputs": [
    {
     "data": {
      "image/png": "[encoded data removed]",
      "text/plain": [
       "<matplotlib.figure.Figure at 0x108df5410>"
      ]
     },
     "metadata": {},
     "output_type": "display_data"
    }
   ],
   "source": [
    "sns.countplot(train.Survived);\n",
    "plt.xlabel('Survived');\n",
    "plt.ylabel('Number of occurrences');"
   ]
  },
  {
   "cell_type": "code",
   "execution_count": 8,
   "metadata": {
    "collapsed": false,
    "scrolled": false
   },
   "outputs": [
    {
     "name": "stdout",
     "output_type": "stream",
     "text": [
      "Survived\n",
      "0    0.616162\n",
      "1    0.383838\n",
      "dtype: float64\n"
     ]
    }
   ],
   "source": [
    "#类先验\n",
    "Survived_count = train.groupby('Survived').size()\n",
    "p_Survived = Survived_count/float(N_train)\n",
    "print p_Survived"
   ]
  },
  {
   "cell_type": "markdown",
   "metadata": {},
   "source": [
    "## Sex特征，乘客性别（女性乘客更可能生存）\n",
    "直方图\n",
    "编码成数值，用于logistic回归\n",
    "计算类条件概率，用于朴素贝叶斯分类器"
   ]
  },
  {
   "cell_type": "code",
   "execution_count": 9,
   "metadata": {
    "collapsed": false,
    "scrolled": true
   },
   "outputs": [
    {
     "data": {
      "image/png": "[encoded data removed]",
      "text/plain": [
       "<matplotlib.figure.Figure at 0x113964090>"
      ]
     },
     "metadata": {},
     "output_type": "display_data"
    }
   ],
   "source": [
    "#Sex\n",
    "sns.countplot(x=\"Sex\", hue=\"Survived\",data=train);\n",
    "\n",
    "Sex_map = {'female': 1, 'male': 0}\n",
    "train['Sex'] = train['Sex'].apply(lambda x: Sex_map[x])\n",
    "test['Sex'] = test['Sex'].apply(lambda x: Sex_map[x])\n",
    "\n",
    "#还有一种方式是将性别和年龄一起编码为：孩子、老人、男性和女性（老人和小孩是否存和是不考虑性别的）4个哑变量\n",
    "#对特征的编码可以充分发挥想象"
   ]
  },
  {
   "cell_type": "code",
   "execution_count": 10,
   "metadata": {
    "collapsed": false,
    "scrolled": false
   },
   "outputs": [
    {
     "name": "stdout",
     "output_type": "stream",
     "text": [
      "Sex  Survived\n",
      "0    0           468\n",
      "     1           109\n",
      "1    0            81\n",
      "     1           233\n",
      "dtype: int64\n",
      "('probility sex given not surrvived', array([ 0.85245902,  0.14754098]))\n",
      "('probility sex given surrvived', array([ 0.31871345,  0.68128655]))\n"
     ]
    }
   ],
   "source": [
    "#类条件概率p(sex|surrvivied)\n",
    "\n",
    "#缺省是sort=true，排序好的\n",
    "sex_surrvived_count = train[[\"Sex\", \"Survived\"]].groupby(['Sex','Survived'], as_index=False).size()\n",
    "print sex_surrvived_count\n",
    "\n",
    "#fit\n",
    "p_Sex_Surrvived = np.zeros((2, 2))\n",
    "# p(sex|surrvivied=0)\n",
    "p_Sex_Surrvived[0][0] = sex_surrvived_count[0][0]/float(Survived_count[0]) \n",
    "p_Sex_Surrvived[0][1] = sex_surrvived_count[1][0]/float(Survived_count[0])\n",
    "print ('probility sex given not surrvived', p_Sex_Surrvived[0])\n",
    "\n",
    "# p(sex|surrvivied=1)\n",
    "p_Sex_Surrvived[1][0] = sex_surrvived_count[0][1]/float(Survived_count[1])\n",
    "p_Sex_Surrvived[1][1] = sex_surrvived_count[1][1]/float(Survived_count[1])\n",
    "print ('probility sex given surrvived',p_Sex_Surrvived[1])\n",
    "\n",
    "\n",
    "#predict\n",
    "prob_train_NotSurvived['Sex'] = p_Sex_Surrvived[0][train['Sex']]\n",
    "prob_train_Survived['Sex']= p_Sex_Surrvived[1][train['Sex']]\n",
    "\n",
    "prob_test_NotSurvived['Sex'] = p_Sex_Surrvived[0][test['Sex']]\n",
    "prob_test_Survived['Sex']= p_Sex_Surrvived[1][test['Sex']]"
   ]
  },
  {
   "cell_type": "markdown",
   "metadata": {},
   "source": [
    "## Fare特征，船票价格\n",
    "直方图\n",
    "本身已是数值型特征\n",
    "计算类条件概率，用于朴素贝叶斯分类器"
   ]
  },
  {
   "cell_type": "code",
   "execution_count": 11,
   "metadata": {
    "collapsed": false
   },
   "outputs": [
    {
     "data": {
      "text/plain": [
       "<seaborn.axisgrid.FacetGrid at 0x113d5e1d0>"
      ]
     },
     "execution_count": 11,
     "metadata": {},
     "output_type": "execute_result"
    },
    {
     "data": {
      "image/png": "[encoded data removed]",
      "text/plain": [
       "<matplotlib.figure.Figure at 0x113d39210>"
      ]
     },
     "metadata": {},
     "output_type": "display_data"
    }
   ],
   "source": [
    "# Fare\n",
    "\n",
    "# 测试集中有一个缺失值\n",
    "test[\"Fare\"].fillna(train[\"Fare\"].median(), inplace=True)\n",
    "\n",
    "# convert from float to int\n",
    "#train['Fare'] = train['Fare'].astype(int)\n",
    "#test['Fare']    = test['Fare'].astype(int)\n",
    "\n",
    "# peaks for survived/not survived passengers by their age\n",
    "facet = sns.FacetGrid(train, hue=\"Survived\",aspect=4)\n",
    "facet.map(sns.kdeplot,'Fare',shade= True)\n",
    "facet.set(xlim=(0, train['Fare'].max()))\n",
    "facet.add_legend()"
   ]
  },
  {
   "cell_type": "code",
   "execution_count": 12,
   "metadata": {
    "collapsed": false
   },
   "outputs": [],
   "source": [
    "#看起来不像高斯分布，尾巴长，非单峰,\n",
    "#用核密度估计试试（高斯核函数，核宽带自动确定）\n",
    "#from sklearn.neighbors import KernelDensity   (需人工确定核宽度)\n",
    "from scipy.stats import gaussian_kde\n",
    "\n",
    "# get fare for survived & didn't survive passengers \n",
    "Fare_not_survived = train[\"Fare\"][train[\"Survived\"] == 0]\n",
    "Fare_survived     = train[\"Fare\"][train[\"Survived\"] == 1]\n",
    "\n",
    "# Gaussian KDE\n",
    "#fit\n",
    "Fare_not_survived_kde = gaussian_kde(Fare_not_survived)\n",
    "#px = fare_not_survived.sort_values()\n",
    "#p = fare_not_survived_kde.evaluate(px)\n",
    "#plt.plot(px,p)\n",
    "Fare_survived_kde = gaussian_kde(Fare_survived)\n",
    "\n",
    "#predict\n",
    "prob_train_NotSurvived['Fare'] = Fare_not_survived_kde.evaluate(train[\"Fare\"])\n",
    "prob_train_Survived['Fare'] = Fare_survived_kde.evaluate(train['Fare'])\n",
    "\n",
    "prob_test_NotSurvived['Fare'] = Fare_not_survived_kde.evaluate(test['Fare'])\n",
    "prob_test_Survived['Fare']=Fare_survived_kde.evaluate(test['Fare'])"
   ]
  },
  {
   "cell_type": "markdown",
   "metadata": {},
   "source": [
    "## Age特征，乘客年龄\n",
    "补充缺失值\n",
    "直方图\n",
    "本身已是数值型特征\n",
    "计算类条件概率，用于朴素贝叶斯分类器"
   ]
  },
  {
   "cell_type": "code",
   "execution_count": 13,
   "metadata": {
    "collapsed": false
   },
   "outputs": [
    {
     "name": "stderr",
     "output_type": "stream",
     "text": [
      "/Applications/anaconda/lib/python2.7/site-packages/ipykernel/__main__.py:25: SettingWithCopyWarning: \n",
      "A value is trying to be set on a copy of a slice from a DataFrame\n",
      "\n",
      "See the caveats in the documentation: http://pandas.pydata.org/pandas-docs/stable/indexing.html#indexing-view-versus-copy\n",
      "/Applications/anaconda/lib/python2.7/site-packages/ipykernel/__main__.py:26: SettingWithCopyWarning: \n",
      "A value is trying to be set on a copy of a slice from a DataFrame\n",
      "\n",
      "See the caveats in the documentation: http://pandas.pydata.org/pandas-docs/stable/indexing.html#indexing-view-versus-copy\n"
     ]
    },
    {
     "data": {
      "text/plain": [
       "<matplotlib.axes._subplots.AxesSubplot at 0x114161bd0>"
      ]
     },
     "execution_count": 13,
     "metadata": {},
     "output_type": "execute_result"
    },
    {
     "data": {
      "image/png": "[encoded data removed]",
      "text/plain": [
       "<matplotlib.figure.Figure at 0x113eed290>"
      ]
     },
     "metadata": {},
     "output_type": "display_data"
    }
   ],
   "source": [
    "# Age \n",
    "fig, (axis1,axis2) = plt.subplots(1,2,figsize=(15,4))\n",
    "axis1.set_title('Original Age values - Titanic')\n",
    "axis2.set_title('New Age values - Titanic')\n",
    "\n",
    "# get average, std, and number of NaN values in train\n",
    "average_age_titanic   = train[\"Age\"].mean()\n",
    "std_age_titanic       = train[\"Age\"].std()\n",
    "count_nan_age_titanic = train[\"Age\"].isnull().sum()\n",
    "\n",
    "# get average, std, and number of NaN values in test\n",
    "count_nan_age_test = test[\"Age\"].isnull().sum()\n",
    "\n",
    "# generate random numbers between (mean - std) & (mean + std)，都用训练集的信息\n",
    "#均值附近，1倍标准差内随机生成数据\n",
    "rand_1 = np.random.randint(average_age_titanic - std_age_titanic, average_age_titanic + std_age_titanic, size = count_nan_age_titanic)\n",
    "rand_2 = np.random.randint(average_age_titanic - std_age_titanic, average_age_titanic + std_age_titanic, size = count_nan_age_test)\n",
    "\n",
    "# plot original Age values\n",
    "# NOTE: drop all null values, and convert to int\n",
    "train['Age'].dropna().hist( ax=axis1)\n",
    "# test['Age'].dropna().astype(int).hist(bins=70, ax=axis1)\n",
    "\n",
    "# fill NaN values in Age column with random values generated\n",
    "train[\"Age\"][np.isnan(train[\"Age\"])] = rand_1\n",
    "test[\"Age\"][np.isnan(test[\"Age\"])] = rand_2\n",
    "\n",
    "        \n",
    "# plot new Age Values\n",
    "train['Age'].hist (ax=axis2)\n",
    "# test['Age'].hist(bins=70, ax=axis4)"
   ]
  },
  {
   "cell_type": "code",
   "execution_count": 14,
   "metadata": {
    "collapsed": false,
    "scrolled": true
   },
   "outputs": [
    {
     "data": {
      "text/plain": [
       "<seaborn.axisgrid.FacetGrid at 0x113ef86d0>"
      ]
     },
     "execution_count": 14,
     "metadata": {},
     "output_type": "execute_result"
    },
    {
     "data": {
      "image/png": "[encoded data removed]",
      "text/plain": [
       "<matplotlib.figure.Figure at 0x113ef83d0>"
      ]
     },
     "metadata": {},
     "output_type": "display_data"
    }
   ],
   "source": [
    "# .... continue with plot Age column\n",
    "\n",
    "# peaks for survived/not survived passengers by their age\n",
    "facet = sns.FacetGrid(train, hue=\"Survived\",aspect=4)\n",
    "facet.map(sns.kdeplot,'Age',shade= True)\n",
    "facet.set(xlim=(0, train['Age'].max()))\n",
    "facet.add_legend()"
   ]
  },
  {
   "cell_type": "code",
   "execution_count": 15,
   "metadata": {
    "collapsed": false,
    "scrolled": true
   },
   "outputs": [],
   "source": [
    "#类条件概率看起来不像高斯分布，尾巴长，非单峰,\n",
    "#一种方式是将连续变量分组，变成离散变量，以离散变量的方式解决。\n",
    "#另一种是用核密度估计试试（高斯核函数，核宽带自动确定）\n",
    "#from sklearn.neighbors import KernelDensity   (需人工确定核宽度)\n",
    "from scipy.stats import gaussian_kde\n",
    "\n",
    "# get Age for survived & didn't survive passengers \n",
    "Age_not_survived = train[\"Age\"][train[\"Survived\"] == 0]\n",
    "Age_survived     = train[\"Age\"][train[\"Survived\"] == 1]\n",
    "\n",
    "\n",
    "# Gaussian KDE\n",
    "#fit\n",
    "#fig\n",
    "Age_not_survived_kde = gaussian_kde(Age_not_survived)\n",
    "Age_survived_kde = gaussian_kde(Age_survived)\n",
    "\n",
    "#predict\n",
    "prob_train_NotSurvived['Age'] = Age_not_survived_kde.evaluate(train['Age'])\n",
    "prob_train_Survived['Age']= Age_survived_kde.evaluate(train['Age'])\n",
    "\n",
    "prob_test_NotSurvived['Age'] = Age_not_survived_kde.evaluate(test['Age'])\n",
    "prob_test_Survived['Age']=Age_survived_kde.evaluate(test['Age'])"
   ]
  },
  {
   "cell_type": "markdown",
   "metadata": {},
   "source": [
    "## Family特征，是否有家庭成员同船\n",
    "构造新特征\n",
    "直方图\n",
    "本身已是数值型特征\n",
    "计算类条件概率，用于朴素贝叶斯分类器"
   ]
  },
  {
   "cell_type": "code",
   "execution_count": 16,
   "metadata": {
    "collapsed": false
   },
   "outputs": [
    {
     "name": "stderr",
     "output_type": "stream",
     "text": [
      "/Applications/anaconda/lib/python2.7/site-packages/pandas/core/indexing.py:141: SettingWithCopyWarning: \n",
      "A value is trying to be set on a copy of a slice from a DataFrame\n",
      "\n",
      "See the caveats in the documentation: http://pandas.pydata.org/pandas-docs/stable/indexing.html#indexing-view-versus-copy\n",
      "  self._setitem_with_indexer(indexer, value)\n"
     ]
    },
    {
     "data": {
      "image/png": "[encoded data removed]",
      "text/plain": [
       "<matplotlib.figure.Figure at 0x113cbfe90>"
      ]
     },
     "metadata": {},
     "output_type": "display_data"
    }
   ],
   "source": [
    "# Family，记录是否有家人同行，同时去掉SibSp和Parch特征\n",
    "# Instead of having two columns Parch & SibSp, \n",
    "# we can have only one column represent if the passenger had any family member aboard or not,\n",
    "# Meaning, if having any family member(whether parent, brother, ...etc) will increase chances of Survival or not.\n",
    "train['Family'] =  train[\"Parch\"] + train[\"SibSp\"]\n",
    "train['Family'].loc[train['Family'] > 0] = 1\n",
    "train['Family'].loc[train['Family'] == 0] = 0\n",
    "\n",
    "test['Family'] =  test[\"Parch\"] + test[\"SibSp\"]\n",
    "test['Family'].loc[test['Family'] > 0] = 1\n",
    "test['Family'].loc[test['Family'] == 0] = 0\n",
    "\n",
    "# drop Parch & SibSp\n",
    "train = train.drop(['SibSp','Parch'], axis=1)\n",
    "test    = test.drop(['SibSp','Parch'], axis=1)\n",
    "\n",
    "#prob_train_NotSurvived.drop(['SibSp','Parch'], axis=1)\n",
    "#prob_train_Survived.drop(['SibSp','Parch'], axis=1)\n",
    "\n",
    "#prob_test_NotSurvived.drop(['SibSp','Parch'], axis=1)\n",
    "#prob_test_Survived.drop(['SibSp','Parch'], axis=1)\n",
    "\n",
    "sns.countplot(x=\"Family\", hue=\"Survived\",data=train);"
   ]
  },
  {
   "cell_type": "code",
   "execution_count": 17,
   "metadata": {
    "collapsed": false,
    "scrolled": true
   },
   "outputs": [
    {
     "name": "stdout",
     "output_type": "stream",
     "text": [
      "Family  Survived\n",
      "0       0           374\n",
      "        1           163\n",
      "1       0           175\n",
      "        1           179\n",
      "dtype: int64\n",
      "('probility Family given not surrvived', array([ 0.68123862,  0.31876138]))\n",
      "('probility sex given surrvived', array([ 0.47660819,  0.52339181]))\n"
     ]
    }
   ],
   "source": [
    "#类条件概率p(Family|surrvivied)\n",
    "\n",
    "#缺省是sort=true，排序好的\n",
    "Family_surrvived_count = train[[\"Family\", \"Survived\"]].groupby(['Family','Survived'], as_index=False).size()\n",
    "print Family_surrvived_count\n",
    "\n",
    "p_Family_Surrvived = np.zeros((2, 2))\n",
    "# p(Family|surrvivied=0)\n",
    "p_Family_Surrvived[0][0] = Family_surrvived_count[0][0]/float(Survived_count[0]) \n",
    "p_Family_Surrvived[0][1] = Family_surrvived_count[1][0]/float(Survived_count[0])\n",
    "print ('probility Family given not surrvived', p_Family_Surrvived[0])\n",
    "\n",
    "# p(sex|surrvivied=1)\n",
    "p_Family_Surrvived[1][0] = Family_surrvived_count[0][1]/float(Survived_count[1])\n",
    "p_Family_Surrvived[1][1] = Family_surrvived_count[1][1]/float(Survived_count[1])\n",
    "print ('probility sex given surrvived',p_Family_Surrvived[1])\n",
    "\n",
    "\n",
    "#predict\n",
    "prob_train_NotSurvived['Family'] = p_Family_Surrvived[0][train['Family']]\n",
    "prob_train_Survived['Family']= p_Family_Surrvived[1][train['Family']]\n",
    "\n",
    "prob_test_NotSurvived['Family'] = p_Family_Surrvived[0][test['Family']]\n",
    "prob_test_Survived['Family']= p_Family_Surrvived[1][test['Family']]"
   ]
  },
  {
   "cell_type": "markdown",
   "metadata": {},
   "source": [
    "## Pclass特征，船舱等级\n",
    "直方图\n",
    "本身已是数值型特征\n",
    "计算类条件概率，用于朴素贝叶斯分类器"
   ]
  },
  {
   "cell_type": "code",
   "execution_count": 18,
   "metadata": {
    "collapsed": false,
    "scrolled": true
   },
   "outputs": [
    {
     "name": "stdout",
     "output_type": "stream",
     "text": [
      "Pclass  Survived\n",
      "1       0            80\n",
      "        1           136\n",
      "2       0            97\n",
      "        1            87\n",
      "3       0           372\n",
      "        1           119\n",
      "dtype: int64\n",
      "('probility  Pclass given not surrvived', array([ 0.        ,  0.14571949,  0.17668488,  0.67759563]))\n",
      "('probility Pclass given surrvived', array([ 0.        ,  0.39766082,  0.25438596,  0.34795322]))\n"
     ]
    },
    {
     "data": {
      "image/png": "[encoded data removed]",
      "text/plain": [
       "<matplotlib.figure.Figure at 0x1142f8e10>"
      ]
     },
     "metadata": {},
     "output_type": "display_data"
    }
   ],
   "source": [
    "# Pclass\n",
    "sns.countplot(x=\"Pclass\", hue=\"Survived\",data=train);\n",
    "\n",
    "#也可与对类别型特征进行哑编码\n",
    "\n",
    "#类条件概率\n",
    "#Pclass_surrvived_count = train[[\"Pclass\", \"Survived\"]].groupby(['Pclass','Survived'], as_index=False).size()\n",
    "Pclass_surrvived_count =    train[[\"Pclass\",    \"Survived\"]].groupby(['Pclass',   'Survived'], as_index=False).size()\n",
    "print Pclass_surrvived_count\n",
    "\n",
    "\n",
    "p_Pclass_Surrvived = np.zeros((2, 4))\n",
    "\n",
    "# p(Pclass|surrvivied=0),，注意Pclass_surrvived_count中Pclass值从1开始\n",
    "p_Pclass_Surrvived[0][1] = Pclass_surrvived_count[1][0]/float(Survived_count[0]) \n",
    "p_Pclass_Surrvived[0][2] = Pclass_surrvived_count[2][0]/float(Survived_count[0])\n",
    "p_Pclass_Surrvived[0][3] = Pclass_surrvived_count[3][0]/float(Survived_count[0])\n",
    "print ('probility  Pclass given not surrvived', p_Pclass_Surrvived[0])\n",
    "\n",
    "# p(Pclass|surrvivied=1)\n",
    "p_Pclass_Surrvived[1][1] = Pclass_surrvived_count[1][1]/float(Survived_count[1])\n",
    "p_Pclass_Surrvived[1][2] = Pclass_surrvived_count[2][1]/float(Survived_count[1])\n",
    "p_Pclass_Surrvived[1][3] = Pclass_surrvived_count[3][1]/float(Survived_count[1])\n",
    "print ('probility Pclass given surrvived',p_Pclass_Surrvived[1])\n"
   ]
  },
  {
   "cell_type": "code",
   "execution_count": 19,
   "metadata": {
    "collapsed": false
   },
   "outputs": [],
   "source": [
    "#predict\n",
    "prob_train_NotSurvived['Pclass'] = p_Pclass_Surrvived[0][train['Pclass']]\n",
    "prob_train_Survived['Pclass'] = p_Pclass_Surrvived[1][train['Pclass']]\n",
    "\n",
    "prob_test_NotSurvived['Pclass'] = p_Pclass_Surrvived[0][test['Pclass']]\n",
    "prob_test_Survived['Pclass'] = p_Pclass_Surrvived[1][test['Pclass']]"
   ]
  },
  {
   "cell_type": "markdown",
   "metadata": {},
   "source": [
    "## Embarked特征，登船港口\n",
    "直方图\n",
    "编码成数值，用于logistic回归\n",
    "计算类条件概率，用于朴素贝叶斯分类器\n",
    "\n",
    "在本任务中我们抛弃该特征，从逻辑上来说从哪个港口登船与是否存活关系不大"
   ]
  },
  {
   "cell_type": "code",
   "execution_count": 20,
   "metadata": {
    "collapsed": true
   },
   "outputs": [],
   "source": [
    "train = train.drop(['Embarked'], axis=1)\n",
    "test = test.drop(['Embarked'], axis=1)"
   ]
  },
  {
   "cell_type": "code",
   "execution_count": 21,
   "metadata": {
    "collapsed": false
   },
   "outputs": [],
   "source": [
    "# define training and testing sets\n",
    "y_train = train[\"Survived\"]\n",
    "X_train = train.drop(\"Survived\",axis=1)\n",
    "X_test  = test.drop(\"PassengerId\",axis=1).copy()"
   ]
  },
  {
   "cell_type": "code",
   "execution_count": 22,
   "metadata": {
    "collapsed": false
   },
   "outputs": [
    {
     "data": {
      "text/plain": [
       "0.7912457912457912"
      ]
     },
     "execution_count": 22,
     "metadata": {},
     "output_type": "execute_result"
    }
   ],
   "source": [
    "# Logistic Regression\n",
    "logreg = LogisticRegression()\n",
    "\n",
    "#训练\n",
    "#对logistic回归，最好将特征标准化，这样使得各特征取值范围相近，从而各系数大小可看出特征的对模型的贡献大小\n",
    "#如果采用正则化的logistic回归，特征一定要先标准化\n",
    "#对数据做0均值1方差归一，或者将所有特征取值范围归一到区间【0，1】\n",
    "\n",
    "logreg.fit(X_train, y_train)\n",
    "\n",
    "#测试\n",
    "Y_pred = logreg.predict(X_test)\n",
    "\n",
    "#训练集上的正确率\n",
    "logreg.score(X_train, y_train)"
   ]
  },
  {
   "cell_type": "code",
   "execution_count": 23,
   "metadata": {
    "collapsed": true
   },
   "outputs": [],
   "source": [
    "#Logistic Regression假设目标与特征之间为线性关系。在本例中，年龄特征与目标之间的关系不满足线性关系，因为老人和孩子生存率都较高，因此效果不好"
   ]
  },
  {
   "cell_type": "code",
   "execution_count": 24,
   "metadata": {
    "collapsed": false,
    "scrolled": true
   },
   "outputs": [
    {
     "data": {
      "text/html": [
       "<div>\n",
       "<table border=\"1\" class=\"dataframe\">\n",
       "  <thead>\n",
       "    <tr style=\"text-align: right;\">\n",
       "      <th></th>\n",
       "      <th>Features</th>\n",
       "      <th>Coefficient Estimate</th>\n",
       "    </tr>\n",
       "  </thead>\n",
       "  <tbody>\n",
       "    <tr>\n",
       "      <th>0</th>\n",
       "      <td>Pclass</td>\n",
       "      <td>-1.014924</td>\n",
       "    </tr>\n",
       "    <tr>\n",
       "      <th>1</th>\n",
       "      <td>Sex</td>\n",
       "      <td>2.519543</td>\n",
       "    </tr>\n",
       "    <tr>\n",
       "      <th>2</th>\n",
       "      <td>Age</td>\n",
       "      <td>-0.025682</td>\n",
       "    </tr>\n",
       "    <tr>\n",
       "      <th>3</th>\n",
       "      <td>Fare</td>\n",
       "      <td>0.001627</td>\n",
       "    </tr>\n",
       "    <tr>\n",
       "      <th>4</th>\n",
       "      <td>Family</td>\n",
       "      <td>-0.028870</td>\n",
       "    </tr>\n",
       "  </tbody>\n",
       "</table>\n",
       "</div>"
      ],
      "text/plain": [
       "  Features  Coefficient Estimate\n",
       "0   Pclass             -1.014924\n",
       "1      Sex              2.519543\n",
       "2      Age             -0.025682\n",
       "3     Fare              0.001627\n",
       "4   Family             -0.028870"
      ]
     },
     "execution_count": 24,
     "metadata": {},
     "output_type": "execute_result"
    }
   ],
   "source": [
    "# get Correlation Coefficient for each feature using Logistic Regression\n",
    "coeff_df =  pd.DataFrame(train.columns.delete(0))\n",
    "coeff_df.columns = ['Features']\n",
    "coeff_df[\"Coefficient Estimate\"] = pd.Series(logreg.coef_[0])\n",
    "\n",
    "# preview\n",
    "coeff_df"
   ]
  },
  {
   "cell_type": "markdown",
   "metadata": {},
   "source": [
    "# 作业部分\n",
    "1. 增加特征或减少特征，模型及其结果有何不同？如增加Embarked特征？去掉Fare特征？\n",
    "2. 也可以通过增加正则（尤其是L1正则）自动选择合适的特征\n",
    "3. 对类别型特征Pclass，采用哑编码（one-hot编码），看看模型性能是否改变\n",
    "4. 对Age和Fare特征可以将其分区间量化，变成类别型编码后，再one-hot编码"
   ]
  },
  {
   "cell_type": "code",
   "execution_count": 25,
   "metadata": {
    "collapsed": true
   },
   "outputs": [],
   "source": [
    "# Gaussian Naive Bayes，假设所有类条件分布为高斯分布\n",
    "\n",
    "# gaussian = GaussianNB()\n",
    "\n",
    "# gaussian.fit(X_train, Y_train)\n",
    "\n",
    "# Y_pred = gaussian.predict(X_test)\n",
    "\n",
    "# gaussian.score(X_train, Y_train)"
   ]
  },
  {
   "cell_type": "code",
   "execution_count": 26,
   "metadata": {
    "collapsed": false
   },
   "outputs": [
    {
     "name": "stdout",
     "output_type": "stream",
     "text": [
      "Train Accuary: 75.08%\n"
     ]
    }
   ],
   "source": [
    "#自己实现朴素贝叶斯分类器\n",
    "#http://www.voidcn.com/blog/a_31415926/article/p-1949545.html\n",
    "\n",
    "#predict on train set\n",
    "prob_train_NotSurvived['final_prob'] = prob_train_NotSurvived['Pclass']*10*prob_train_NotSurvived['Sex']*10*prob_train_NotSurvived['Family']*10\\\n",
    "                                  *prob_train_NotSurvived['Age']*10*prob_train_NotSurvived['Fare'] *10  * p_Survived[1]\n",
    "    \n",
    "prob_train_Survived['final_prob'] = prob_train_Survived['Pclass']*10*prob_train_Survived['Sex']*10*prob_train_Survived['Family']*10\\\n",
    "                                  *prob_train_Survived['Age']*10*prob_train_Survived['Fare']*10 * p_Survived[1]\n",
    "\n",
    "Y_pred_train = prob_train_Survived['final_prob'] > prob_train_NotSurvived['final_prob']\n",
    "Y_pred_train.astype(int)\n",
    "\n",
    "from sklearn.metrics import accuracy_score\n",
    "train_accuracy = accuracy_score(y_train, Y_pred_train)\n",
    "print (\"Train Accuary: %.2f%%\" % (train_accuracy * 100.0))"
   ]
  },
  {
   "cell_type": "code",
   "execution_count": 27,
   "metadata": {
    "collapsed": false
   },
   "outputs": [
    {
     "data": {
      "text/plain": [
       "0      0\n",
       "1      0\n",
       "2      0\n",
       "3      0\n",
       "4      0\n",
       "5      0\n",
       "6      0\n",
       "7      0\n",
       "8      0\n",
       "9      0\n",
       "10     0\n",
       "11     0\n",
       "12     1\n",
       "13     0\n",
       "14     1\n",
       "15     1\n",
       "16     0\n",
       "17     0\n",
       "18     0\n",
       "19     0\n",
       "20     1\n",
       "21     0\n",
       "22     1\n",
       "23     1\n",
       "24     1\n",
       "25     0\n",
       "26     1\n",
       "27     0\n",
       "28     0\n",
       "29     0\n",
       "      ..\n",
       "388    0\n",
       "389    0\n",
       "390    1\n",
       "391    1\n",
       "392    0\n",
       "393    0\n",
       "394    0\n",
       "395    1\n",
       "396    0\n",
       "397    1\n",
       "398    0\n",
       "399    0\n",
       "400    1\n",
       "401    0\n",
       "402    1\n",
       "403    0\n",
       "404    0\n",
       "405    0\n",
       "406    0\n",
       "407    1\n",
       "408    0\n",
       "409    1\n",
       "410    0\n",
       "411    1\n",
       "412    0\n",
       "413    0\n",
       "414    1\n",
       "415    0\n",
       "416    0\n",
       "417    0\n",
       "Name: final_prob, dtype: int64"
      ]
     },
     "execution_count": 27,
     "metadata": {},
     "output_type": "execute_result"
    }
   ],
   "source": [
    "#predict on test set\n",
    "prob_test_NotSurvived['final_prob'] = prob_test_NotSurvived['Pclass']*10*prob_test_NotSurvived['Sex']*10*prob_test_NotSurvived['Family']*10\\\n",
    "                                  *prob_test_NotSurvived['Age']*10*prob_test_NotSurvived['Fare'] *10  * p_Survived[0]\n",
    "    \n",
    "prob_test_Survived['final_prob'] = prob_test_Survived['Pclass']*10*prob_test_Survived['Sex']*10*prob_test_Survived['Family']*10\\\n",
    "                                  *prob_test_Survived['Age']*10*prob_test_Survived['Fare']*10 * p_Survived[1]\n",
    "\n",
    "Y_pred = prob_test_Survived['final_prob'] > prob_test_NotSurvived['final_prob']\n",
    "Y_pred.astype(int)"
   ]
  },
  {
   "cell_type": "code",
   "execution_count": 28,
   "metadata": {
    "collapsed": true
   },
   "outputs": [],
   "source": [
    "submission = pd.DataFrame({\n",
    "        \"PassengerId\": test[\"PassengerId\"],\n",
    "        \"Survived\": Y_pred\n",
    "    })\n",
    "submission.to_csv('titanic.csv', index=False)"
   ]
  },
  {
   "cell_type": "code",
   "execution_count": null,
   "metadata": {
    "collapsed": true
   },
   "outputs": [],
   "source": []
  },
  {
   "cell_type": "code",
   "execution_count": 29,
   "metadata": {
    "collapsed": false,
    "scrolled": true
   },
   "outputs": [
    {
     "ename": "KeyError",
     "evalue": "'Embarked'",
     "output_type": "error",
     "traceback": [
      "\u001b[0;31m---------------------------------------------------------------------------\u001b[0m",
      "\u001b[0;31mKeyError\u001b[0m                                  Traceback (most recent call last)",
      "\u001b[0;32m<ipython-input-29-71a44a1493b9>\u001b[0m in \u001b[0;36m<module>\u001b[0;34m()\u001b[0m\n\u001b[1;32m      2\u001b[0m \u001b[0;34m\u001b[0m\u001b[0m\n\u001b[1;32m      3\u001b[0m \u001b[0;31m# 训练集中有2个样本的值缺失，用登船人数最多的码头 \"S\"填充.\u001b[0m\u001b[0;34m\u001b[0m\u001b[0;34m\u001b[0m\u001b[0m\n\u001b[0;32m----> 4\u001b[0;31m \u001b[0mtrain\u001b[0m\u001b[0;34m[\u001b[0m\u001b[0;34m\"Embarked\"\u001b[0m\u001b[0;34m]\u001b[0m \u001b[0;34m=\u001b[0m \u001b[0mtrain\u001b[0m\u001b[0;34m[\u001b[0m\u001b[0;34m\"Embarked\"\u001b[0m\u001b[0;34m]\u001b[0m\u001b[0;34m.\u001b[0m\u001b[0mfillna\u001b[0m\u001b[0;34m(\u001b[0m\u001b[0;34m\"S\"\u001b[0m\u001b[0;34m)\u001b[0m\u001b[0;34m\u001b[0m\u001b[0m\n\u001b[0m\u001b[1;32m      5\u001b[0m \u001b[0;34m\u001b[0m\u001b[0m\n\u001b[1;32m      6\u001b[0m \u001b[0;31m# plot\u001b[0m\u001b[0;34m\u001b[0m\u001b[0;34m\u001b[0m\u001b[0m\n",
      "\u001b[0;32m/Applications/anaconda/lib/python2.7/site-packages/pandas/core/frame.pyc\u001b[0m in \u001b[0;36m__getitem__\u001b[0;34m(self, key)\u001b[0m\n\u001b[1;32m   2057\u001b[0m             \u001b[0;32mreturn\u001b[0m \u001b[0mself\u001b[0m\u001b[0;34m.\u001b[0m\u001b[0m_getitem_multilevel\u001b[0m\u001b[0;34m(\u001b[0m\u001b[0mkey\u001b[0m\u001b[0;34m)\u001b[0m\u001b[0;34m\u001b[0m\u001b[0m\n\u001b[1;32m   2058\u001b[0m         \u001b[0;32melse\u001b[0m\u001b[0;34m:\u001b[0m\u001b[0;34m\u001b[0m\u001b[0m\n\u001b[0;32m-> 2059\u001b[0;31m             \u001b[0;32mreturn\u001b[0m \u001b[0mself\u001b[0m\u001b[0;34m.\u001b[0m\u001b[0m_getitem_column\u001b[0m\u001b[0;34m(\u001b[0m\u001b[0mkey\u001b[0m\u001b[0;34m)\u001b[0m\u001b[0;34m\u001b[0m\u001b[0m\n\u001b[0m\u001b[1;32m   2060\u001b[0m \u001b[0;34m\u001b[0m\u001b[0m\n\u001b[1;32m   2061\u001b[0m     \u001b[0;32mdef\u001b[0m \u001b[0m_getitem_column\u001b[0m\u001b[0;34m(\u001b[0m\u001b[0mself\u001b[0m\u001b[0;34m,\u001b[0m \u001b[0mkey\u001b[0m\u001b[0;34m)\u001b[0m\u001b[0;34m:\u001b[0m\u001b[0;34m\u001b[0m\u001b[0m\n",
      "\u001b[0;32m/Applications/anaconda/lib/python2.7/site-packages/pandas/core/frame.pyc\u001b[0m in \u001b[0;36m_getitem_column\u001b[0;34m(self, key)\u001b[0m\n\u001b[1;32m   2064\u001b[0m         \u001b[0;31m# get column\u001b[0m\u001b[0;34m\u001b[0m\u001b[0;34m\u001b[0m\u001b[0m\n\u001b[1;32m   2065\u001b[0m         \u001b[0;32mif\u001b[0m \u001b[0mself\u001b[0m\u001b[0;34m.\u001b[0m\u001b[0mcolumns\u001b[0m\u001b[0;34m.\u001b[0m\u001b[0mis_unique\u001b[0m\u001b[0;34m:\u001b[0m\u001b[0;34m\u001b[0m\u001b[0m\n\u001b[0;32m-> 2066\u001b[0;31m             \u001b[0;32mreturn\u001b[0m \u001b[0mself\u001b[0m\u001b[0;34m.\u001b[0m\u001b[0m_get_item_cache\u001b[0m\u001b[0;34m(\u001b[0m\u001b[0mkey\u001b[0m\u001b[0;34m)\u001b[0m\u001b[0;34m\u001b[0m\u001b[0m\n\u001b[0m\u001b[1;32m   2067\u001b[0m \u001b[0;34m\u001b[0m\u001b[0m\n\u001b[1;32m   2068\u001b[0m         \u001b[0;31m# duplicate columns & possible reduce dimensionality\u001b[0m\u001b[0;34m\u001b[0m\u001b[0;34m\u001b[0m\u001b[0m\n",
      "\u001b[0;32m/Applications/anaconda/lib/python2.7/site-packages/pandas/core/generic.pyc\u001b[0m in \u001b[0;36m_get_item_cache\u001b[0;34m(self, item)\u001b[0m\n\u001b[1;32m   1384\u001b[0m         \u001b[0mres\u001b[0m \u001b[0;34m=\u001b[0m \u001b[0mcache\u001b[0m\u001b[0;34m.\u001b[0m\u001b[0mget\u001b[0m\u001b[0;34m(\u001b[0m\u001b[0mitem\u001b[0m\u001b[0;34m)\u001b[0m\u001b[0;34m\u001b[0m\u001b[0m\n\u001b[1;32m   1385\u001b[0m         \u001b[0;32mif\u001b[0m \u001b[0mres\u001b[0m \u001b[0;32mis\u001b[0m \u001b[0mNone\u001b[0m\u001b[0;34m:\u001b[0m\u001b[0;34m\u001b[0m\u001b[0m\n\u001b[0;32m-> 1386\u001b[0;31m             \u001b[0mvalues\u001b[0m \u001b[0;34m=\u001b[0m \u001b[0mself\u001b[0m\u001b[0;34m.\u001b[0m\u001b[0m_data\u001b[0m\u001b[0;34m.\u001b[0m\u001b[0mget\u001b[0m\u001b[0;34m(\u001b[0m\u001b[0mitem\u001b[0m\u001b[0;34m)\u001b[0m\u001b[0;34m\u001b[0m\u001b[0m\n\u001b[0m\u001b[1;32m   1387\u001b[0m             \u001b[0mres\u001b[0m \u001b[0;34m=\u001b[0m \u001b[0mself\u001b[0m\u001b[0;34m.\u001b[0m\u001b[0m_box_item_values\u001b[0m\u001b[0;34m(\u001b[0m\u001b[0mitem\u001b[0m\u001b[0;34m,\u001b[0m \u001b[0mvalues\u001b[0m\u001b[0;34m)\u001b[0m\u001b[0;34m\u001b[0m\u001b[0m\n\u001b[1;32m   1388\u001b[0m             \u001b[0mcache\u001b[0m\u001b[0;34m[\u001b[0m\u001b[0mitem\u001b[0m\u001b[0;34m]\u001b[0m \u001b[0;34m=\u001b[0m \u001b[0mres\u001b[0m\u001b[0;34m\u001b[0m\u001b[0m\n",
      "\u001b[0;32m/Applications/anaconda/lib/python2.7/site-packages/pandas/core/internals.pyc\u001b[0m in \u001b[0;36mget\u001b[0;34m(self, item, fastpath)\u001b[0m\n\u001b[1;32m   3541\u001b[0m \u001b[0;34m\u001b[0m\u001b[0m\n\u001b[1;32m   3542\u001b[0m             \u001b[0;32mif\u001b[0m \u001b[0;32mnot\u001b[0m \u001b[0misnull\u001b[0m\u001b[0;34m(\u001b[0m\u001b[0mitem\u001b[0m\u001b[0;34m)\u001b[0m\u001b[0;34m:\u001b[0m\u001b[0;34m\u001b[0m\u001b[0m\n\u001b[0;32m-> 3543\u001b[0;31m                 \u001b[0mloc\u001b[0m \u001b[0;34m=\u001b[0m \u001b[0mself\u001b[0m\u001b[0;34m.\u001b[0m\u001b[0mitems\u001b[0m\u001b[0;34m.\u001b[0m\u001b[0mget_loc\u001b[0m\u001b[0;34m(\u001b[0m\u001b[0mitem\u001b[0m\u001b[0;34m)\u001b[0m\u001b[0;34m\u001b[0m\u001b[0m\n\u001b[0m\u001b[1;32m   3544\u001b[0m             \u001b[0;32melse\u001b[0m\u001b[0;34m:\u001b[0m\u001b[0;34m\u001b[0m\u001b[0m\n\u001b[1;32m   3545\u001b[0m                 \u001b[0mindexer\u001b[0m \u001b[0;34m=\u001b[0m \u001b[0mnp\u001b[0m\u001b[0;34m.\u001b[0m\u001b[0marange\u001b[0m\u001b[0;34m(\u001b[0m\u001b[0mlen\u001b[0m\u001b[0;34m(\u001b[0m\u001b[0mself\u001b[0m\u001b[0;34m.\u001b[0m\u001b[0mitems\u001b[0m\u001b[0;34m)\u001b[0m\u001b[0;34m)\u001b[0m\u001b[0;34m[\u001b[0m\u001b[0misnull\u001b[0m\u001b[0;34m(\u001b[0m\u001b[0mself\u001b[0m\u001b[0;34m.\u001b[0m\u001b[0mitems\u001b[0m\u001b[0;34m)\u001b[0m\u001b[0;34m]\u001b[0m\u001b[0;34m\u001b[0m\u001b[0m\n",
      "\u001b[0;32m/Applications/anaconda/lib/python2.7/site-packages/pandas/indexes/base.pyc\u001b[0m in \u001b[0;36mget_loc\u001b[0;34m(self, key, method, tolerance)\u001b[0m\n\u001b[1;32m   2134\u001b[0m                 \u001b[0;32mreturn\u001b[0m \u001b[0mself\u001b[0m\u001b[0;34m.\u001b[0m\u001b[0m_engine\u001b[0m\u001b[0;34m.\u001b[0m\u001b[0mget_loc\u001b[0m\u001b[0;34m(\u001b[0m\u001b[0mkey\u001b[0m\u001b[0;34m)\u001b[0m\u001b[0;34m\u001b[0m\u001b[0m\n\u001b[1;32m   2135\u001b[0m             \u001b[0;32mexcept\u001b[0m \u001b[0mKeyError\u001b[0m\u001b[0;34m:\u001b[0m\u001b[0;34m\u001b[0m\u001b[0m\n\u001b[0;32m-> 2136\u001b[0;31m                 \u001b[0;32mreturn\u001b[0m \u001b[0mself\u001b[0m\u001b[0;34m.\u001b[0m\u001b[0m_engine\u001b[0m\u001b[0;34m.\u001b[0m\u001b[0mget_loc\u001b[0m\u001b[0;34m(\u001b[0m\u001b[0mself\u001b[0m\u001b[0;34m.\u001b[0m\u001b[0m_maybe_cast_indexer\u001b[0m\u001b[0;34m(\u001b[0m\u001b[0mkey\u001b[0m\u001b[0;34m)\u001b[0m\u001b[0;34m)\u001b[0m\u001b[0;34m\u001b[0m\u001b[0m\n\u001b[0m\u001b[1;32m   2137\u001b[0m \u001b[0;34m\u001b[0m\u001b[0m\n\u001b[1;32m   2138\u001b[0m         \u001b[0mindexer\u001b[0m \u001b[0;34m=\u001b[0m \u001b[0mself\u001b[0m\u001b[0;34m.\u001b[0m\u001b[0mget_indexer\u001b[0m\u001b[0;34m(\u001b[0m\u001b[0;34m[\u001b[0m\u001b[0mkey\u001b[0m\u001b[0;34m]\u001b[0m\u001b[0;34m,\u001b[0m \u001b[0mmethod\u001b[0m\u001b[0;34m=\u001b[0m\u001b[0mmethod\u001b[0m\u001b[0;34m,\u001b[0m \u001b[0mtolerance\u001b[0m\u001b[0;34m=\u001b[0m\u001b[0mtolerance\u001b[0m\u001b[0;34m)\u001b[0m\u001b[0;34m\u001b[0m\u001b[0m\n",
      "\u001b[0;32mpandas/index.pyx\u001b[0m in \u001b[0;36mpandas.index.IndexEngine.get_loc (pandas/index.c:4433)\u001b[0;34m()\u001b[0m\n",
      "\u001b[0;32mpandas/index.pyx\u001b[0m in \u001b[0;36mpandas.index.IndexEngine.get_loc (pandas/index.c:4279)\u001b[0;34m()\u001b[0m\n",
      "\u001b[0;32mpandas/src/hashtable_class_helper.pxi\u001b[0m in \u001b[0;36mpandas.hashtable.PyObjectHashTable.get_item (pandas/hashtable.c:13742)\u001b[0;34m()\u001b[0m\n",
      "\u001b[0;32mpandas/src/hashtable_class_helper.pxi\u001b[0m in \u001b[0;36mpandas.hashtable.PyObjectHashTable.get_item (pandas/hashtable.c:13696)\u001b[0;34m()\u001b[0m\n",
      "\u001b[0;31mKeyError\u001b[0m: 'Embarked'"
     ]
    }
   ],
   "source": [
    "# Embarked\n",
    "\n",
    "# 训练集中有2个样本的值缺失，用登船人数最多的码头 \"S\"填充.\n",
    "train[\"Embarked\"] = train[\"Embarked\"].fillna(\"S\")\n",
    "\n",
    "# plot\n",
    "fig, (axis1,axis2,axis3) = plt.subplots(1,3,figsize=(15,5))\n",
    "\n",
    "sns.countplot(x='Embarked', data=train, ax=axis1)\n",
    "\n",
    "sns.countplot(x='Survived', hue=\"Embarked\", data=train, order=[1,0], ax=axis2)\n",
    "\n",
    "prob_embark_survived = train[[\"Embarked\", \"Survived\"]].groupby(['Embarked'],as_index=False).mean()\n",
    "#print prob_embark_survived\n",
    "\n",
    "# group by embarked, and get the mean for survived passengers for each value in Embarked\n",
    "embark_perc = train[[\"Embarked\", \"Survived\"]].groupby(['Embarked'],as_index=False).mean()\n",
    "sns.barplot(x='Embarked', y='Survived', data=embark_perc,order=['S','C','Q'], ax=axis3)\n",
    "\n",
    "\n",
    "# 对类别型变量进行数字编码：通过观察，C的存活率最高，编码为2，S的存活率最低，编码为1，使得目标与Embarked特征之间正相关 \n",
    "#Embarked_map = {'C': 2, 'Q': 1, 'S': 0}\n",
    "#train['Embarked'] = train['Embarked'].apply(lambda x: Embarked_map[x])\n",
    "#train['Embarked'] = train['Embarked'].apply(lambda x: Embarked_map[x])\n",
    "\n",
    "# 或者可以去掉，因为从逻辑上看，从哪个港口登船应该和存活率没有太大关系\n",
    "train = train.drop(['Embarked'], axis=1)\n",
    "test = test.drop(['Embarked'], axis=1)\n",
    "\n",
    "#prob_train_NotSurvived.drop(['Embarked'], axis=1)\n",
    "#prob_train_Survived.drop(['Embarked'], axis=1)\n",
    "\n",
    "#prob_test_NotSurvived.drop(['Embarked'], axis=1)\n",
    "#prob_test_Survived.drop(['Embarked'], axis=1)"
   ]
  }
 ],
 "metadata": {
  "kernelspec": {
   "display_name": "Python 2",
   "language": "python",
   "name": "python2"
  },
  "language_info": {
   "codemirror_mode": {
    "name": "ipython",
    "version": 2
   },
   "file_extension": ".py",
   "mimetype": "text/x-python",
   "name": "python",
   "nbconvert_exporter": "python",
   "pygments_lexer": "ipython2",
   "version": "2.7.13"
  }
 },
 "nbformat": 4,
 "nbformat_minor": 2
}
