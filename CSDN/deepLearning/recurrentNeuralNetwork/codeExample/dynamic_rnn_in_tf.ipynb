{
 "cells": [
  {
   "cell_type": "markdown",
   "metadata": {
    "toc": true
   },
   "source": [
    "<h1>Table of Contents<span class=\"tocSkip\"></span></h1>\n",
    "<div class=\"toc\" style=\"margin-top: 1em;\"><ul class=\"toc-item\"></ul></div>"
   ]
  },
  {
   "cell_type": "code",
   "execution_count": 1,
   "metadata": {},
   "outputs": [],
   "source": [
    "from __future__ import absolute_import\n",
    "from __future__ import division\n",
    "from __future__ import print_function"
   ]
  },
  {
   "cell_type": "code",
   "execution_count": 2,
   "metadata": {},
   "outputs": [],
   "source": [
    "import numpy as np"
   ]
  },
  {
   "cell_type": "code",
   "execution_count": 3,
   "metadata": {},
   "outputs": [
    {
     "name": "stdout",
     "output_type": "stream",
     "text": [
      "Expected cross entropy loss if the model:\n",
      "- learns neither dependency: 0.661563238158\n",
      "- learns first dependency: 0.519166699707\n",
      "- learns both dependency: 0.454454367449\n"
     ]
    }
   ],
   "source": [
    "print(\"Expected cross entropy loss if the model:\")\n",
    "print(\"- learns neither dependency:\", -(0.625 * np.log(0.625) + 0.375 * np.log(0.375)))\n",
    "print(\"- learns first dependency:\", \n",
    "      -0.5 * (0.875 * np.log(0.875) + 0.125 * np.log(0.125))\n",
    "      -0.5 * (0.625 * np.log(0.625) + 0.375 * np.log(0.375)))\n",
    "print(\"- learns both dependency:\", \n",
    "      -0.5 * (0.75 * np.log(0.75) + 0.25 * np.log(0.25))\n",
    "      -0.25 * (2 * 0.5 * np.log(0.5) - 0.25 * (0)))"
   ]
  },
  {
   "cell_type": "code",
   "execution_count": 4,
   "metadata": {},
   "outputs": [],
   "source": [
    "import tensorflow as tf\n",
    "%matplotlib inline\n",
    "import matplotlib.pyplot as plt\n",
    "import os\n",
    "os.environ['CUDA_VISIBLE_DEVICES']=''"
   ]
  },
  {
   "cell_type": "code",
   "execution_count": 5,
   "metadata": {},
   "outputs": [],
   "source": [
    "num_steps = 5\n",
    "batch_size = 200\n",
    "num_classes = 2\n",
    "state_size = 16\n",
    "learning_rate = 0.001"
   ]
  },
  {
   "cell_type": "code",
   "execution_count": 6,
   "metadata": {},
   "outputs": [],
   "source": [
    "def gen_data(size = 1000000):\n",
    "    X = np.array(np.random.choice(2, size=(size,)))\n",
    "    Y = []\n",
    "    for i in range(size):\n",
    "        threshold = 0.5\n",
    "        if X[i-3] == 1:\n",
    "            threshold += 0.5\n",
    "        if X[i-8] == 1:\n",
    "            threshold -= 0.25\n",
    "        if np.random.rand() > threshold:\n",
    "            Y.append(0)\n",
    "        else:\n",
    "            Y.append(1)\n",
    "    return X, np.array(Y)\n",
    "        "
   ]
  },
  {
   "cell_type": "code",
   "execution_count": 7,
   "metadata": {},
   "outputs": [],
   "source": [
    "def gen_batch(raw_date, batch_size, num_steps):\n",
    "    raw_x, raw_y = raw_date\n",
    "    data_length = len(raw_x)\n",
    "    \n",
    "    #partition raw data into batches and stak them vertically in a data matrix\n",
    "    batch_partition_length = data_length // batch_size\n",
    "    data_x = np.zeros([batch_size, batch_partition_length], dtype=np.int32)\n",
    "    data_y = np.zeros([batch_size, batch_partition_length], dtype=np.int32)\n",
    "    # do partition \n",
    "    for i in range(batch_size):\n",
    "        data_x[i] = raw_x[batch_partition_length * i : batch_partition_length * (i + 1)]\n",
    "        data_y[i] = raw_y[batch_partition_length * i : batch_partition_length * (i + 1)]\n",
    "    # do epoch\n",
    "    epoch_size = batch_partition_length // num_steps\n",
    "    \n",
    "    for i in range(epoch_size):\n",
    "        x = data_x[:, i * num_steps:(i + 1) * num_steps]\n",
    "        y = data_y[:, i * num_steps:(i + 1) * num_steps]\n",
    "        yield(x, y)\n",
    "        \n",
    "def gen_epochs(n, num_steps):\n",
    "    for i in range(n):\n",
    "        yield gen_batch(gen_data(), batch_size, num_steps)"
   ]
  },
  {
   "cell_type": "code",
   "execution_count": 8,
   "metadata": {},
   "outputs": [],
   "source": [
    "tf.reset_default_graph()\n",
    "\n",
    "x = tf.placeholder(tf.int32, [batch_size, num_steps], name='input_placeholder')\n",
    "y = tf.placeholder(tf.int32, [batch_size, num_steps], name='labels_placeholder')\n",
    "init_state = tf.zeros([batch_size, state_size])\n",
    "\n",
    "# x_one_hot = tf.one_hot(x, num_classes)\n",
    "# rnn_inputs = tf.unstack(x_one_hot, axis = 1)\n",
    "\n",
    "# 优化二：dynamic方式\n",
    "rnn_inputs = tf.one_hot(x, num_classes)\n"
   ]
  },
  {
   "cell_type": "code",
   "execution_count": 9,
   "metadata": {},
   "outputs": [
    {
     "name": "stdout",
     "output_type": "stream",
     "text": [
      "Tensor(\"rnn/transpose:0\", shape=(200, 5, 16), dtype=float32)\n",
      "Tensor(\"rnn/while/Exit_2:0\", shape=(200, 16), dtype=float32)\n"
     ]
    }
   ],
   "source": [
    "cell = tf.nn.rnn_cell.BasicRNNCell(state_size)\n",
    "rnn_outputs, final_state = tf.nn.dynamic_rnn(cell, rnn_inputs, initial_state=init_state)\n",
    "print(rnn_outputs)\n",
    "print(final_state)"
   ]
  },
  {
   "cell_type": "code",
   "execution_count": 10,
   "metadata": {},
   "outputs": [],
   "source": [
    "with tf.variable_scope('softmax'):\n",
    "    W = tf.get_variable('W', [state_size, num_classes])\n",
    "    b = tf.get_variable('b', [num_classes], initializer=tf.constant_initializer(0.0))"
   ]
  },
  {
   "cell_type": "code",
   "execution_count": 11,
   "metadata": {},
   "outputs": [],
   "source": [
    "# logits = [tf.matmul(rnn_output, W) + b for rnn_output in rnn_outputs]\n",
    "# predictions = [tf.nn.softmax(logit) for logit in logits]\n",
    "\n",
    "# y_as_list = tf.unstack(y, num=num_steps, axis=1)\n",
    "\n",
    "# losses = [tf.nn.sparse_softmax_cross_entropy_with_logits(labels=label, logits=logit) for \n",
    "#          logit, label in zip(logits, y_as_list)]\n",
    "\n",
    "# 优化二：dynamic方式\n",
    "# dynamic优化 logits predictions losses计算方式做相应修改\n",
    "logits = tf.reshape(\n",
    "            tf.matmul(tf.reshape(rnn_outputs, [-1, state_size]), W) + b,\n",
    "            [batch_size, num_steps, num_classes])\n",
    "predictions = tf.nn.softmax(logits)\n",
    "\n",
    "losses = tf.nn.sparse_softmax_cross_entropy_with_logits(labels=y, logits=logits)"
   ]
  },
  {
   "cell_type": "code",
   "execution_count": 12,
   "metadata": {},
   "outputs": [],
   "source": [
    "total_loss = tf.reduce_mean(losses)\n",
    "train_step = tf.train.AdamOptimizer(learning_rate).minimize(total_loss)"
   ]
  },
  {
   "cell_type": "code",
   "execution_count": 13,
   "metadata": {},
   "outputs": [
    {
     "name": "stdout",
     "output_type": "stream",
     "text": [
      "\n",
      "EPOCH 0\n",
      "Average loss at step 100 for last 100 steps: 0.562411904633\n",
      "Average loss at step 200 for last 100 steps: 0.486812432706\n",
      "Average loss at step 300 for last 100 steps: 0.486584925056\n",
      "Average loss at step 400 for last 100 steps: 0.484679380357\n",
      "Average loss at step 500 for last 100 steps: 0.475878683925\n",
      "Average loss at step 600 for last 100 steps: 0.478745310605\n",
      "Average loss at step 700 for last 100 steps: 0.480136155188\n",
      "Average loss at step 800 for last 100 steps: 0.479659578502\n",
      "Average loss at step 900 for last 100 steps: 0.476197741032\n",
      "\n",
      "EPOCH 1\n",
      "Average loss at step 100 for last 100 steps: 0.486250113845\n",
      "Average loss at step 200 for last 100 steps: 0.477325642109\n",
      "Average loss at step 300 for last 100 steps: 0.473715016246\n",
      "Average loss at step 400 for last 100 steps: 0.473608194292\n",
      "Average loss at step 500 for last 100 steps: 0.475305302441\n",
      "Average loss at step 600 for last 100 steps: 0.472920046449\n",
      "Average loss at step 700 for last 100 steps: 0.474952809513\n",
      "Average loss at step 800 for last 100 steps: 0.474010813236\n",
      "Average loss at step 900 for last 100 steps: 0.473171933591\n",
      "\n",
      "EPOCH 2\n",
      "Average loss at step 100 for last 100 steps: 0.481668917537\n",
      "Average loss at step 200 for last 100 steps: 0.472274899185\n",
      "Average loss at step 300 for last 100 steps: 0.471134241223\n",
      "Average loss at step 400 for last 100 steps: 0.473415424228\n",
      "Average loss at step 500 for last 100 steps: 0.46909432441\n",
      "Average loss at step 600 for last 100 steps: 0.470332282782\n",
      "Average loss at step 700 for last 100 steps: 0.468834472299\n",
      "Average loss at step 800 for last 100 steps: 0.469336364567\n",
      "Average loss at step 900 for last 100 steps: 0.467326209247\n",
      "\n",
      "EPOCH 3\n",
      "Average loss at step 100 for last 100 steps: 0.478766950071\n",
      "Average loss at step 200 for last 100 steps: 0.467629900873\n",
      "Average loss at step 300 for last 100 steps: 0.469408822656\n",
      "Average loss at step 400 for last 100 steps: 0.468912951648\n",
      "Average loss at step 500 for last 100 steps: 0.469557642937\n",
      "Average loss at step 600 for last 100 steps: 0.470407552123\n",
      "Average loss at step 700 for last 100 steps: 0.467511906326\n",
      "Average loss at step 800 for last 100 steps: 0.47064059943\n",
      "Average loss at step 900 for last 100 steps: 0.469684744775\n",
      "\n",
      "EPOCH 4\n",
      "Average loss at step 100 for last 100 steps: 0.479618255198\n",
      "Average loss at step 200 for last 100 steps: 0.465925890207\n",
      "Average loss at step 300 for last 100 steps: 0.467453899682\n",
      "Average loss at step 400 for last 100 steps: 0.46753465414\n",
      "Average loss at step 500 for last 100 steps: 0.467402789891\n",
      "Average loss at step 600 for last 100 steps: 0.465057616234\n",
      "Average loss at step 700 for last 100 steps: 0.465190475583\n",
      "Average loss at step 800 for last 100 steps: 0.464708399177\n",
      "Average loss at step 900 for last 100 steps: 0.467943740189\n",
      "\n",
      "EPOCH 5\n",
      "Average loss at step 100 for last 100 steps: 0.476640506387\n",
      "Average loss at step 200 for last 100 steps: 0.465876362324\n",
      "Average loss at step 300 for last 100 steps: 0.46668150723\n",
      "Average loss at step 400 for last 100 steps: 0.468191360831\n",
      "Average loss at step 500 for last 100 steps: 0.465463904142\n",
      "Average loss at step 600 for last 100 steps: 0.465428844392\n",
      "Average loss at step 700 for last 100 steps: 0.466021747589\n",
      "Average loss at step 800 for last 100 steps: 0.465170513988\n",
      "Average loss at step 900 for last 100 steps: 0.465069873929\n",
      "\n",
      "EPOCH 6\n",
      "Average loss at step 100 for last 100 steps: 0.473194414079\n",
      "Average loss at step 200 for last 100 steps: 0.466776555777\n",
      "Average loss at step 300 for last 100 steps: 0.466533381939\n",
      "Average loss at step 400 for last 100 steps: 0.466559114754\n",
      "Average loss at step 500 for last 100 steps: 0.466519871056\n",
      "Average loss at step 600 for last 100 steps: 0.463720062077\n",
      "Average loss at step 700 for last 100 steps: 0.463591589034\n",
      "Average loss at step 800 for last 100 steps: 0.463742262721\n",
      "Average loss at step 900 for last 100 steps: 0.462973934114\n",
      "\n",
      "EPOCH 7\n",
      "Average loss at step 100 for last 100 steps: 0.473489004076\n",
      "Average loss at step 200 for last 100 steps: 0.462803415358\n",
      "Average loss at step 300 for last 100 steps: 0.462954886556\n",
      "Average loss at step 400 for last 100 steps: 0.463726673722\n",
      "Average loss at step 500 for last 100 steps: 0.463273652494\n",
      "Average loss at step 600 for last 100 steps: 0.462380851209\n",
      "Average loss at step 700 for last 100 steps: 0.463210323751\n",
      "Average loss at step 800 for last 100 steps: 0.460975980163\n",
      "Average loss at step 900 for last 100 steps: 0.460662111938\n",
      "\n",
      "EPOCH 8\n",
      "Average loss at step 100 for last 100 steps: 0.468888665736\n",
      "Average loss at step 200 for last 100 steps: 0.460451487005\n",
      "Average loss at step 300 for last 100 steps: 0.461186262369\n",
      "Average loss at step 400 for last 100 steps: 0.462319329977\n",
      "Average loss at step 500 for last 100 steps: 0.461069799662\n",
      "Average loss at step 600 for last 100 steps: 0.459338513911\n",
      "Average loss at step 700 for last 100 steps: 0.459995259643\n",
      "Average loss at step 800 for last 100 steps: 0.461678331792\n",
      "Average loss at step 900 for last 100 steps: 0.460330373645\n",
      "\n",
      "EPOCH 9\n",
      "Average loss at step 100 for last 100 steps: 0.469377160966\n",
      "Average loss at step 200 for last 100 steps: 0.459423698485\n",
      "Average loss at step 300 for last 100 steps: 0.459846995771\n",
      "Average loss at step 400 for last 100 steps: 0.461201184094\n",
      "Average loss at step 500 for last 100 steps: 0.461094816923\n",
      "Average loss at step 600 for last 100 steps: 0.458385087848\n",
      "Average loss at step 700 for last 100 steps: 0.458247444928\n",
      "Average loss at step 800 for last 100 steps: 0.460637509823\n",
      "Average loss at step 900 for last 100 steps: 0.460597479343\n"
     ]
    },
    {
     "data": {
      "text/plain": [
       "[<matplotlib.lines.Line2D at 0x7f52f07e8128>]"
      ]
     },
     "execution_count": 13,
     "metadata": {},
     "output_type": "execute_result"
    },
    {
     "data": {
      "image/png": "[encoded data removed]",
      "text/plain": [
       "<matplotlib.figure.Figure at 0x7f52f1822c88>"
      ]
     },
     "metadata": {},
     "output_type": "display_data"
    }
   ],
   "source": [
    "def train_network(num_epochs, num_steps, state_size=4, verbose=True):\n",
    "    with tf.Session() as sess:\n",
    "        sess.run(tf.global_variables_initializer())\n",
    "        training_losses = []\n",
    "        for idx, epoch in enumerate(gen_epochs(num_epochs, num_steps)):\n",
    "            training_loss = 0\n",
    "            training_state = np.zeros((batch_size, state_size))\n",
    "            if verbose:\n",
    "                print(\"\\nEPOCH\", idx)\n",
    "            for step, (X, Y) in enumerate(epoch):\n",
    "                tr_losses, training_loss_, training_state, _= \\\n",
    "                    sess.run([losses, \n",
    "                              total_loss,\n",
    "                              final_state,\n",
    "                              train_step],\n",
    "                            feed_dict={x:X, y:Y, init_state:training_state})\n",
    "                training_loss += training_loss_\n",
    "                if step % 100 == 0 and step > 0:\n",
    "                    if verbose:\n",
    "                        print(\"Average loss at step\", step,\n",
    "                              \"for last 100 steps:\", training_loss/100)\n",
    "                    training_losses.append(training_loss/100)\n",
    "                    training_loss = 0\n",
    "    return training_losses\n",
    "training_losses = train_network(10, num_steps, state_size=state_size)\n",
    "plt.plot(training_losses)\n",
    "            "
   ]
  },
  {
   "cell_type": "code",
   "execution_count": null,
   "metadata": {},
   "outputs": [],
   "source": []
  }
 ],
 "metadata": {
  "kernelspec": {
   "display_name": "Python 3",
   "language": "python",
   "name": "python3"
  },
  "language_info": {
   "codemirror_mode": {
    "name": "ipython",
    "version": 3
   },
   "file_extension": ".py",
   "mimetype": "text/x-python",
   "name": "python",
   "nbconvert_exporter": "python",
   "pygments_lexer": "ipython3",
   "version": "3.5.2"
  },
  "toc": {
   "nav_menu": {},
   "number_sections": true,
   "sideBar": true,
   "skip_h1_title": false,
   "toc_cell": true,
   "toc_position": {},
   "toc_section_display": "block",
   "toc_window_display": true
  },
  "varInspector": {
   "cols": {
    "lenName": 16,
    "lenType": 16,
    "lenVar": 40
   },
   "kernels_config": {
    "python": {
     "delete_cmd_postfix": "",
     "delete_cmd_prefix": "del ",
     "library": "var_list.py",
     "varRefreshCmd": "print(var_dic_list())"
    },
    "r": {
     "delete_cmd_postfix": ") ",
     "delete_cmd_prefix": "rm(",
     "library": "var_list.r",
     "varRefreshCmd": "cat(var_dic_list()) "
    }
   },
   "types_to_exclude": [
    "module",
    "function",
    "builtin_function_or_method",
    "instance",
    "_Feature"
   ],
   "window_display": false
  }
 },
 "nbformat": 4,
 "nbformat_minor": 2
}
