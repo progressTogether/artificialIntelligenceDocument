{
 "cells": [
  {
   "cell_type": "markdown",
   "metadata": {
    "toc": true
   },
   "source": [
    "<h1>Table of Contents<span class=\"tocSkip\"></span></h1>\n",
    "<div class=\"toc\" style=\"margin-top: 1em;\"><ul class=\"toc-item\"></ul></div>"
   ]
  },
  {
   "cell_type": "code",
   "execution_count": 1,
   "metadata": {},
   "outputs": [],
   "source": [
    "from __future__ import absolute_import\n",
    "from __future__ import division\n",
    "from __future__ import print_function"
   ]
  },
  {
   "cell_type": "code",
   "execution_count": 2,
   "metadata": {},
   "outputs": [],
   "source": [
    "import numpy as np"
   ]
  },
  {
   "cell_type": "code",
   "execution_count": 3,
   "metadata": {},
   "outputs": [
    {
     "name": "stdout",
     "output_type": "stream",
     "text": [
      "Expected cross entropy loss if the model:\n",
      "- learns neither dependency: 0.6615632381579821\n",
      "- learns first dependency: 0.5191666997072094\n",
      "- learns both dependency: 0.4544543674493905\n"
     ]
    }
   ],
   "source": [
    "print(\"Expected cross entropy loss if the model:\")\n",
    "print(\"- learns neither dependency:\", -(0.625 * np.log(0.625) + 0.375 * np.log(0.375)))\n",
    "print(\"- learns first dependency:\", \n",
    "      -0.5 * (0.875 * np.log(0.875) + 0.125 * np.log(0.125))\n",
    "      -0.5 * (0.625 * np.log(0.625) + 0.375 * np.log(0.375)))\n",
    "print(\"- learns both dependency:\", \n",
    "      -0.5 * (0.75 * np.log(0.75) + 0.25 * np.log(0.25))\n",
    "      -0.25 * (2 * 0.5 * np.log(0.5) - 0.25 * (0)))"
   ]
  },
  {
   "cell_type": "code",
   "execution_count": 4,
   "metadata": {},
   "outputs": [],
   "source": [
    "import tensorflow as tf\n",
    "%matplotlib inline\n",
    "import matplotlib.pyplot as plt\n",
    "import os\n",
    "os.environ['CUDA_VISIBLE_DEVICES']=''"
   ]
  },
  {
   "cell_type": "code",
   "execution_count": 5,
   "metadata": {},
   "outputs": [],
   "source": [
    "num_steps = 5\n",
    "batch_size = 200\n",
    "num_classes = 2\n",
    "state_size = 16\n",
    "learning_rate = 0.001"
   ]
  },
  {
   "cell_type": "code",
   "execution_count": 6,
   "metadata": {},
   "outputs": [],
   "source": [
    "def gen_data(size = 1000000):\n",
    "    X = np.array(np.random.choice(2, size=(size,)))\n",
    "    Y = []\n",
    "    for i in range(size):\n",
    "        threshold = 0.5\n",
    "        if X[i-3] == 1:\n",
    "            threshold += 0.5\n",
    "        if X[i-8] == 1:\n",
    "            threshold -= 0.25\n",
    "        if np.random.rand() > threshold:\n",
    "            Y.append(0)\n",
    "        else:\n",
    "            Y.append(1)\n",
    "    return X, np.array(Y)\n",
    "        "
   ]
  },
  {
   "cell_type": "code",
   "execution_count": 7,
   "metadata": {},
   "outputs": [],
   "source": [
    "def gen_batch(raw_date, batch_size, num_steps):\n",
    "    raw_x, raw_y = raw_date\n",
    "    data_length = len(raw_x)\n",
    "    \n",
    "    #partition raw data into batches and stak them vertically in a data matrix\n",
    "    batch_partition_length = data_length // batch_size\n",
    "    data_x = np.zeros([batch_size, batch_partition_length], dtype=np.int32)\n",
    "    data_y = np.zeros([batch_size, batch_partition_length], dtype=np.int32)\n",
    "    # do partition \n",
    "    for i in range(batch_size):\n",
    "        data_x[i] = raw_x[batch_partition_length * i : batch_partition_length * (i + 1)]\n",
    "        data_y[i] = raw_y[batch_partition_length * i : batch_partition_length * (i + 1)]\n",
    "    # do epoch\n",
    "    epoch_size = batch_partition_length // num_steps\n",
    "    \n",
    "    for i in range(epoch_size):\n",
    "        x = data_x[:, i * num_steps:(i + 1) * num_steps]\n",
    "        y = data_y[:, i * num_steps:(i + 1) * num_steps]\n",
    "        yield(x, y)\n",
    "        \n",
    "def gen_epochs(n, num_steps):\n",
    "    for i in range(n):\n",
    "        yield gen_batch(gen_data(), batch_size, num_steps)"
   ]
  },
  {
   "cell_type": "code",
   "execution_count": 8,
   "metadata": {},
   "outputs": [],
   "source": [
    "tf.reset_default_graph()\n",
    "\n",
    "x = tf.placeholder(tf.int32, [batch_size, num_steps], name='input_placeholder')\n",
    "y = tf.placeholder(tf.int32, [batch_size, num_steps], name='labels_placeholder')\n",
    "init_state = tf.zeros([batch_size, state_size])\n",
    "\n",
    "x_one_hot = tf.one_hot(x, num_classes)\n",
    "rnn_inputs = tf.unstack(x_one_hot, axis = 1)"
   ]
  },
  {
   "cell_type": "code",
   "execution_count": 9,
   "metadata": {},
   "outputs": [
    {
     "name": "stdout",
     "output_type": "stream",
     "text": [
      "[<tf.Tensor 'rnn/basic_rnn_cell/Tanh:0' shape=(200, 16) dtype=float32>, <tf.Tensor 'rnn/basic_rnn_cell/Tanh_1:0' shape=(200, 16) dtype=float32>, <tf.Tensor 'rnn/basic_rnn_cell/Tanh_2:0' shape=(200, 16) dtype=float32>, <tf.Tensor 'rnn/basic_rnn_cell/Tanh_3:0' shape=(200, 16) dtype=float32>, <tf.Tensor 'rnn/basic_rnn_cell/Tanh_4:0' shape=(200, 16) dtype=float32>]\n",
      "Tensor(\"rnn/basic_rnn_cell/Tanh_4:0\", shape=(200, 16), dtype=float32)\n"
     ]
    }
   ],
   "source": [
    "# with tf.variable_scope('rnn_cell'):\n",
    "#     W = tf.get_variable('W', [num_classes + state_size, state_size])\n",
    "#     b = tf.get_variable('b', [state_size], initializer=tf.constant_initializer(0.0))\n",
    "\n",
    "# def rnn_cell(rnn_input, state):\n",
    "#     with tf.variable_scope('rnn_cell', reuse=True):\n",
    "#         W = tf.get_variable('W', [num_classes + state_size, state_size])\n",
    "#         b = tf.get_variable('b', [state_size], initializer=tf.constant_initializer(0.0))\n",
    "#     return tf.tanh(tf.matmul(tf.concat([rnn_input, state], 1), W) + b)\n",
    "    \n",
    "# state = init_state\n",
    "# rnn_outputs = []\n",
    "# for rnn_input in rnn_inputs:\n",
    "#     state = rnn_cell(rnn_input, state)\n",
    "#     rnn_outputs.append(state)\n",
    "# final_state = rnn_outputs[-1]\n",
    "\n",
    "# 上面是原始代码，定义了rnn_cell，然后使用循环的方式对其进行复用，\n",
    "#利用tensorflow简化之后我们可以直接调用BasicRNNCell和static_rnn两个函数实现\n",
    "cell = tf.nn.rnn_cell.BasicRNNCell(state_size)\n",
    "rnn_outputs, final_state = tf.nn.static_rnn(cell, rnn_inputs, initial_state=init_state)\n",
    "print(rnn_outputs)\n",
    "print(final_state)"
   ]
  },
  {
   "cell_type": "code",
   "execution_count": 10,
   "metadata": {},
   "outputs": [],
   "source": [
    "with tf.variable_scope('softmax'):\n",
    "    W = tf.get_variable('W', [state_size, num_classes])\n",
    "    b = tf.get_variable('b', [num_classes], initializer=tf.constant_initializer(0.0))\n",
    "logits = [tf.matmul(rnn_output, W) + b for rnn_output in rnn_outputs]\n",
    "predictions = [tf.nn.softmax(logit) for logit in logits]\n",
    "\n",
    "y_as_list = tf.unstack(y, num=num_steps, axis=1)\n",
    "\n",
    "losses = [tf.nn.sparse_softmax_cross_entropy_with_logits(labels=label, logits=logit) for \n",
    "         logit, label in zip(logits, y_as_list)]\n",
    "total_loss = tf.reduce_mean(losses)\n",
    "train_step = tf.train.AdamOptimizer(learning_rate).minimize(total_loss)\n"
   ]
  },
  {
   "cell_type": "code",
   "execution_count": 11,
   "metadata": {},
   "outputs": [
    {
     "name": "stdout",
     "output_type": "stream",
     "text": [
      "<generator object gen_batch at 0x7f6dd8dbb678>\n",
      "\n",
      "EPOCH 0\n",
      "Average loss at step 100 for last 100 steps: 0.5886704778671265\n",
      "Average loss at step 200 for last 100 steps: 0.48904190987348556\n",
      "Average loss at step 300 for last 100 steps: 0.48287136524915697\n",
      "Average loss at step 400 for last 100 steps: 0.4804519456624985\n",
      "Average loss at step 500 for last 100 steps: 0.48000637114048006\n",
      "Average loss at step 600 for last 100 steps: 0.47891183793544767\n",
      "Average loss at step 700 for last 100 steps: 0.4779002183675766\n",
      "Average loss at step 800 for last 100 steps: 0.47922206968069075\n",
      "Average loss at step 900 for last 100 steps: 0.4805783089995384\n",
      "<generator object gen_batch at 0x7f6dd8dbb518>\n",
      "\n",
      "EPOCH 1\n",
      "Average loss at step 100 for last 100 steps: 0.4836905121803284\n",
      "Average loss at step 200 for last 100 steps: 0.47686648219823835\n",
      "Average loss at step 300 for last 100 steps: 0.47551822185516357\n",
      "Average loss at step 400 for last 100 steps: 0.4758254483342171\n",
      "Average loss at step 500 for last 100 steps: 0.4751642617583275\n",
      "Average loss at step 600 for last 100 steps: 0.47619022607803346\n",
      "Average loss at step 700 for last 100 steps: 0.47638276576995847\n",
      "Average loss at step 800 for last 100 steps: 0.4778786998987198\n",
      "Average loss at step 900 for last 100 steps: 0.47350735157728197\n",
      "<generator object gen_batch at 0x7f6dd8dbb8e0>\n",
      "\n",
      "EPOCH 2\n",
      "Average loss at step 100 for last 100 steps: 0.48342735528945924\n",
      "Average loss at step 200 for last 100 steps: 0.47590082049369814\n",
      "Average loss at step 300 for last 100 steps: 0.47504865139722824\n",
      "Average loss at step 400 for last 100 steps: 0.47319830030202864\n",
      "Average loss at step 500 for last 100 steps: 0.4722644305229187\n",
      "Average loss at step 600 for last 100 steps: 0.47180556327104567\n",
      "Average loss at step 700 for last 100 steps: 0.47020508229732516\n",
      "Average loss at step 800 for last 100 steps: 0.47277473747730253\n",
      "Average loss at step 900 for last 100 steps: 0.47335544854402545\n",
      "<generator object gen_batch at 0x7f6dd8dbb678>\n",
      "\n",
      "EPOCH 3\n",
      "Average loss at step 100 for last 100 steps: 0.47962687253952024\n",
      "Average loss at step 200 for last 100 steps: 0.4729653179645538\n",
      "Average loss at step 300 for last 100 steps: 0.4684696924686432\n",
      "Average loss at step 400 for last 100 steps: 0.4749476221203804\n",
      "Average loss at step 500 for last 100 steps: 0.4693226271867752\n",
      "Average loss at step 600 for last 100 steps: 0.47078146308660507\n",
      "Average loss at step 700 for last 100 steps: 0.46865280866622927\n",
      "Average loss at step 800 for last 100 steps: 0.46896958082914353\n",
      "Average loss at step 900 for last 100 steps: 0.4719331008195877\n",
      "<generator object gen_batch at 0x7f6dd8dbb518>\n",
      "\n",
      "EPOCH 4\n",
      "Average loss at step 100 for last 100 steps: 0.47956546127796174\n",
      "Average loss at step 200 for last 100 steps: 0.46855053305625916\n",
      "Average loss at step 300 for last 100 steps: 0.46858362019062044\n",
      "Average loss at step 400 for last 100 steps: 0.4679170069098473\n",
      "Average loss at step 500 for last 100 steps: 0.4682816624641418\n",
      "Average loss at step 600 for last 100 steps: 0.4667176327109337\n",
      "Average loss at step 700 for last 100 steps: 0.46710929632186887\n",
      "Average loss at step 800 for last 100 steps: 0.4674223673343658\n",
      "Average loss at step 900 for last 100 steps: 0.46657954156398773\n",
      "<generator object gen_batch at 0x7f6dd8dbb8e0>\n",
      "\n",
      "EPOCH 5\n",
      "Average loss at step 100 for last 100 steps: 0.47464186817407605\n",
      "Average loss at step 200 for last 100 steps: 0.4659984204173088\n",
      "Average loss at step 300 for last 100 steps: 0.4657625213265419\n",
      "Average loss at step 400 for last 100 steps: 0.4682627320289612\n",
      "Average loss at step 500 for last 100 steps: 0.4650429278612137\n",
      "Average loss at step 600 for last 100 steps: 0.4666986608505249\n",
      "Average loss at step 700 for last 100 steps: 0.4638074839115143\n",
      "Average loss at step 800 for last 100 steps: 0.46564254492521284\n",
      "Average loss at step 900 for last 100 steps: 0.4628158888220787\n",
      "<generator object gen_batch at 0x7f6dd8dbb678>\n",
      "\n",
      "EPOCH 6\n",
      "Average loss at step 100 for last 100 steps: 0.47387985765933993\n",
      "Average loss at step 200 for last 100 steps: 0.46584785997867584\n",
      "Average loss at step 300 for last 100 steps: 0.4635065898299217\n",
      "Average loss at step 400 for last 100 steps: 0.4657951444387436\n",
      "Average loss at step 500 for last 100 steps: 0.46396717458963393\n",
      "Average loss at step 600 for last 100 steps: 0.4621760794520378\n",
      "Average loss at step 700 for last 100 steps: 0.4624777543544769\n",
      "Average loss at step 800 for last 100 steps: 0.4626235055923462\n",
      "Average loss at step 900 for last 100 steps: 0.46238711595535276\n",
      "<generator object gen_batch at 0x7f6dd8dbb518>\n",
      "\n",
      "EPOCH 7\n",
      "Average loss at step 100 for last 100 steps: 0.47047441005706786\n",
      "Average loss at step 200 for last 100 steps: 0.46336791664361954\n",
      "Average loss at step 300 for last 100 steps: 0.4613287726044655\n",
      "Average loss at step 400 for last 100 steps: 0.46212357163429263\n",
      "Average loss at step 500 for last 100 steps: 0.46023330360651016\n",
      "Average loss at step 600 for last 100 steps: 0.46029590010643007\n",
      "Average loss at step 700 for last 100 steps: 0.46114850908517835\n",
      "Average loss at step 800 for last 100 steps: 0.46053547382354737\n",
      "Average loss at step 900 for last 100 steps: 0.46017547965049743\n",
      "<generator object gen_batch at 0x7f6dd8dbb8e0>\n",
      "\n",
      "EPOCH 8\n",
      "Average loss at step 100 for last 100 steps: 0.46789534121751786\n",
      "Average loss at step 200 for last 100 steps: 0.46100429505109786\n",
      "Average loss at step 300 for last 100 steps: 0.4603461688756943\n",
      "Average loss at step 400 for last 100 steps: 0.4617107427120209\n",
      "Average loss at step 500 for last 100 steps: 0.46108670622110365\n",
      "Average loss at step 600 for last 100 steps: 0.45847600102424624\n",
      "Average loss at step 700 for last 100 steps: 0.4597319149971008\n",
      "Average loss at step 800 for last 100 steps: 0.4603318506479263\n",
      "Average loss at step 900 for last 100 steps: 0.461778307557106\n",
      "<generator object gen_batch at 0x7f6dd8dbb678>\n",
      "\n",
      "EPOCH 9\n",
      "Average loss at step 100 for last 100 steps: 0.4679246434569359\n",
      "Average loss at step 200 for last 100 steps: 0.45885625571012495\n",
      "Average loss at step 300 for last 100 steps: 0.4591403499245644\n",
      "Average loss at step 400 for last 100 steps: 0.4590956747531891\n",
      "Average loss at step 500 for last 100 steps: 0.46066900849342346\n",
      "Average loss at step 600 for last 100 steps: 0.4577329710125923\n",
      "Average loss at step 700 for last 100 steps: 0.45974335074424744\n",
      "Average loss at step 800 for last 100 steps: 0.4584796878695488\n",
      "Average loss at step 900 for last 100 steps: 0.45832603514194487\n"
     ]
    },
    {
     "data": {
      "text/plain": [
       "[<matplotlib.lines.Line2D at 0x7f6dd6d12b00>]"
      ]
     },
     "execution_count": 11,
     "metadata": {},
     "output_type": "execute_result"
    },
    {
     "data": {
      "image/png": "[encoded data removed]",
      "text/plain": [
       "<matplotlib.figure.Figure at 0x7f6dd8d454a8>"
      ]
     },
     "metadata": {},
     "output_type": "display_data"
    }
   ],
   "source": [
    "def train_network(num_epochs, num_steps, state_size=4, verbose=True):\n",
    "    with tf.Session() as sess:\n",
    "        sess.run(tf.global_variables_initializer())\n",
    "        training_losses = []\n",
    "        for idx, epoch in enumerate(gen_epochs(num_epochs, num_steps)):\n",
    "            training_loss = 0\n",
    "            training_state = np.zeros((batch_size, state_size))\n",
    "            print(epoch)\n",
    "            if verbose:\n",
    "                print(\"\\nEPOCH\", idx)\n",
    "            for step, (X, Y) in enumerate(epoch):\n",
    "                tr_losses, training_loss_, training_state, _= \\\n",
    "                    sess.run([losses, \n",
    "                              total_loss,\n",
    "                              final_state,\n",
    "                              train_step],\n",
    "                            feed_dict={x:X, y:Y, init_state:training_state})\n",
    "                training_loss += training_loss_\n",
    "                if step % 100 == 0 and step > 0:\n",
    "                    if verbose:\n",
    "                        print(\"Average loss at step\", step,\n",
    "                              \"for last 100 steps:\", training_loss/100)\n",
    "                    training_losses.append(training_loss/100)\n",
    "                    training_loss = 0\n",
    "    return training_losses\n",
    "training_losses = train_network(10, num_steps, state_size=state_size)\n",
    "plt.plot(training_losses)\n",
    "            "
   ]
  },
  {
   "cell_type": "code",
   "execution_count": null,
   "metadata": {},
   "outputs": [],
   "source": []
  }
 ],
 "metadata": {
  "kernelspec": {
   "display_name": "Python 3",
   "language": "python",
   "name": "python3"
  },
  "language_info": {
   "codemirror_mode": {
    "name": "ipython",
    "version": 3
   },
   "file_extension": ".py",
   "mimetype": "text/x-python",
   "name": "python",
   "nbconvert_exporter": "python",
   "pygments_lexer": "ipython3",
   "version": "3.5.2"
  },
  "toc": {
   "nav_menu": {},
   "number_sections": true,
   "sideBar": true,
   "skip_h1_title": false,
   "toc_cell": true,
   "toc_position": {},
   "toc_section_display": "block",
   "toc_window_display": true
  },
  "varInspector": {
   "cols": {
    "lenName": 16,
    "lenType": 16,
    "lenVar": 40
   },
   "kernels_config": {
    "python": {
     "delete_cmd_postfix": "",
     "delete_cmd_prefix": "del ",
     "library": "var_list.py",
     "varRefreshCmd": "print(var_dic_list())"
    },
    "r": {
     "delete_cmd_postfix": ") ",
     "delete_cmd_prefix": "rm(",
     "library": "var_list.r",
     "varRefreshCmd": "cat(var_dic_list()) "
    }
   },
   "types_to_exclude": [
    "module",
    "function",
    "builtin_function_or_method",
    "instance",
    "_Feature"
   ],
   "window_display": false
  }
 },
 "nbformat": 4,
 "nbformat_minor": 2
}
