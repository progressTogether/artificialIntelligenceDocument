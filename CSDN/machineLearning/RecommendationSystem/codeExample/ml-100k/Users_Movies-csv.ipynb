{
 "cells": [
  {
   "cell_type": "markdown",
   "metadata": {},
   "source": [
    "# 推荐系统 on MovieLens的数据集"
   ]
  },
  {
   "cell_type": "markdown",
   "metadata": {},
   "source": [
    "# 用户和Movis关联关系处理"
   ]
  },
  {
   "cell_type": "code",
   "execution_count": 1,
   "metadata": {
    "collapsed": true
   },
   "outputs": [],
   "source": [
    "import pandas as pd\n",
    "import numpy as np"
   ]
  },
  {
   "cell_type": "markdown",
   "metadata": {},
   "source": [
    "## 读取训练数据"
   ]
  },
  {
   "cell_type": "code",
   "execution_count": 2,
   "metadata": {},
   "outputs": [
    {
     "data": {
      "text/html": [
       "<div>\n",
       "<style>\n",
       "    .dataframe thead tr:only-child th {\n",
       "        text-align: right;\n",
       "    }\n",
       "\n",
       "    .dataframe thead th {\n",
       "        text-align: left;\n",
       "    }\n",
       "\n",
       "    .dataframe tbody tr th {\n",
       "        vertical-align: top;\n",
       "    }\n",
       "</style>\n",
       "<table border=\"1\" class=\"dataframe\">\n",
       "  <thead>\n",
       "    <tr style=\"text-align: right;\">\n",
       "      <th></th>\n",
       "      <th>user</th>\n",
       "      <th>movieid</th>\n",
       "      <th>rating</th>\n",
       "      <th>timestamp</th>\n",
       "    </tr>\n",
       "  </thead>\n",
       "  <tbody>\n",
       "    <tr>\n",
       "      <th>0</th>\n",
       "      <td>1</td>\n",
       "      <td>1</td>\n",
       "      <td>5</td>\n",
       "      <td>874965758</td>\n",
       "    </tr>\n",
       "    <tr>\n",
       "      <th>1</th>\n",
       "      <td>1</td>\n",
       "      <td>2</td>\n",
       "      <td>3</td>\n",
       "      <td>876893171</td>\n",
       "    </tr>\n",
       "    <tr>\n",
       "      <th>2</th>\n",
       "      <td>1</td>\n",
       "      <td>3</td>\n",
       "      <td>4</td>\n",
       "      <td>878542960</td>\n",
       "    </tr>\n",
       "    <tr>\n",
       "      <th>3</th>\n",
       "      <td>1</td>\n",
       "      <td>4</td>\n",
       "      <td>3</td>\n",
       "      <td>876893119</td>\n",
       "    </tr>\n",
       "    <tr>\n",
       "      <th>4</th>\n",
       "      <td>1</td>\n",
       "      <td>5</td>\n",
       "      <td>3</td>\n",
       "      <td>889751712</td>\n",
       "    </tr>\n",
       "  </tbody>\n",
       "</table>\n",
       "</div>"
      ],
      "text/plain": [
       "   user  movieid  rating  timestamp\n",
       "0     1        1       5  874965758\n",
       "1     1        2       3  876893171\n",
       "2     1        3       4  878542960\n",
       "3     1        4       3  876893119\n",
       "4     1        5       3  889751712"
      ]
     },
     "execution_count": 2,
     "metadata": {},
     "output_type": "execute_result"
    }
   ],
   "source": [
    " \"\"\"\n",
    "u1.base/u1.test 有4列：\n",
    "user：用户ID\n",
    "movieid：movieID\n",
    "rating：用户打分\n",
    "timestamp：表示用户打分的时间，unix seconds since 1/1/1970 UTC\n",
    "\"\"\"\n",
    "\n",
    "# 读入数据\n",
    "u_cols = ['user', 'movieid', 'rating', 'timestamp']\n",
    "df_train = pd.read_csv('u1.base', sep='\\t', names=u_cols,encoding='latin-1')\n",
    "\n",
    "df_train.head()"
   ]
  },
  {
   "cell_type": "code",
   "execution_count": 3,
   "metadata": {
    "scrolled": false
   },
   "outputs": [
    {
     "name": "stdout",
     "output_type": "stream",
     "text": [
      "<class 'pandas.core.frame.DataFrame'>\n",
      "RangeIndex: 80000 entries, 0 to 79999\n",
      "Data columns (total 4 columns):\n",
      "user         80000 non-null int64\n",
      "movieid      80000 non-null int64\n",
      "rating       80000 non-null int64\n",
      "timestamp    80000 non-null int64\n",
      "dtypes: int64(4)\n",
      "memory usage: 2.4 MB\n"
     ]
    }
   ],
   "source": [
    "df_train.info()\n",
    "\n",
    "df_train.drop(['timestamp'], axis=1, inplace=True)\n",
    "train_data = df_train.values"
   ]
  },
  {
   "cell_type": "markdown",
   "metadata": {},
   "source": [
    "## 训练模型"
   ]
  },
  {
   "cell_type": "code",
   "execution_count": 4,
   "metadata": {
    "scrolled": true
   },
   "outputs": [
    {
     "name": "stdout",
     "output_type": "stream",
     "text": [
      "the  0 -th  step is running\n",
      "the rmse of this step on train data is  1.00977442334\n",
      "the  1 -th  step is running\n",
      "the rmse of this step on train data is  0.937427467606\n",
      "the  2 -th  step is running\n",
      "the rmse of this step on train data is  0.925028583011\n",
      "the  3 -th  step is running\n",
      "the rmse of this step on train data is  0.917588919568\n",
      "the  4 -th  step is running\n",
      "the rmse of this step on train data is  0.911119088503\n",
      "the  5 -th  step is running\n",
      "the rmse of this step on train data is  0.904884046189\n",
      "the  6 -th  step is running\n",
      "the rmse of this step on train data is  0.898698790039\n",
      "the  7 -th  step is running\n",
      "the rmse of this step on train data is  0.892744241031\n",
      "the  8 -th  step is running\n",
      "the rmse of this step on train data is  0.887498255388\n",
      "the  9 -th  step is running\n",
      "the rmse of this step on train data is  0.882475153339\n",
      "the  10 -th  step is running\n",
      "the rmse of this step on train data is  0.878241830425\n",
      "the  11 -th  step is running\n",
      "the rmse of this step on train data is  0.874188517422\n",
      "the  12 -th  step is running\n",
      "the rmse of this step on train data is  0.870723771142\n",
      "the  13 -th  step is running\n",
      "the rmse of this step on train data is  0.867235154882\n",
      "the  14 -th  step is running\n",
      "the rmse of this step on train data is  0.864499584912\n",
      "the  15 -th  step is running\n",
      "the rmse of this step on train data is  0.861959479676\n",
      "the  16 -th  step is running\n",
      "the rmse of this step on train data is  0.859281322344\n",
      "the  17 -th  step is running\n",
      "the rmse of this step on train data is  0.856941882213\n",
      "the  18 -th  step is running\n",
      "the rmse of this step on train data is  0.855285740681\n",
      "the  19 -th  step is running\n",
      "the rmse of this step on train data is  0.853207414656\n",
      "the  20 -th  step is running\n",
      "the rmse of this step on train data is  0.851641717004\n",
      "the  21 -th  step is running\n",
      "the rmse of this step on train data is  0.849897496534\n",
      "the  22 -th  step is running\n",
      "the rmse of this step on train data is  0.848465537219\n",
      "the  23 -th  step is running\n",
      "the rmse of this step on train data is  0.847147345891\n",
      "the  24 -th  step is running\n",
      "the rmse of this step on train data is  0.845943929829\n",
      "the  25 -th  step is running\n",
      "the rmse of this step on train data is  0.844643658724\n",
      "the  26 -th  step is running\n",
      "the rmse of this step on train data is  0.843725323725\n",
      "the  27 -th  step is running\n",
      "the rmse of this step on train data is  0.842531596684\n",
      "the  28 -th  step is running\n",
      "the rmse of this step on train data is  0.841678729191\n",
      "the  29 -th  step is running\n",
      "the rmse of this step on train data is  0.840767837958\n",
      "the  30 -th  step is running\n",
      "the rmse of this step on train data is  0.840047417951\n",
      "the  31 -th  step is running\n",
      "the rmse of this step on train data is  0.839367320525\n",
      "the  32 -th  step is running\n",
      "the rmse of this step on train data is  0.838774777637\n",
      "the  33 -th  step is running\n",
      "the rmse of this step on train data is  0.838008312441\n",
      "the  34 -th  step is running\n",
      "the rmse of this step on train data is  0.837379064075\n",
      "the  35 -th  step is running\n",
      "the rmse of this step on train data is  0.83686978579\n",
      "the  36 -th  step is running\n",
      "the rmse of this step on train data is  0.836385720986\n",
      "the  37 -th  step is running\n",
      "the rmse of this step on train data is  0.835924787959\n",
      "the  38 -th  step is running\n",
      "the rmse of this step on train data is  0.835509728858\n",
      "the  39 -th  step is running\n",
      "the rmse of this step on train data is  0.835055659663\n",
      "the  40 -th  step is running\n",
      "the rmse of this step on train data is  0.834668533249\n",
      "the  41 -th  step is running\n",
      "the rmse of this step on train data is  0.834328836425\n",
      "the  42 -th  step is running\n",
      "the rmse of this step on train data is  0.834037475942\n",
      "the  43 -th  step is running\n",
      "the rmse of this step on train data is  0.83373640886\n",
      "the  44 -th  step is running\n",
      "the rmse of this step on train data is  0.833437885542\n",
      "the  45 -th  step is running\n",
      "the rmse of this step on train data is  0.833159278604\n",
      "the  46 -th  step is running\n",
      "the rmse of this step on train data is  0.832884342439\n",
      "the  47 -th  step is running\n",
      "the rmse of this step on train data is  0.832673644009\n",
      "the  48 -th  step is running\n",
      "the rmse of this step on train data is  0.832439278166\n",
      "the  49 -th  step is running\n",
      "the rmse of this step on train data is  0.832284366459\n"
     ]
    }
   ],
   "source": [
    "from RS_SVD_CF import SVD_CF\n",
    "\n",
    "movie_SVD_CF = SVD_CF(train_data)\n",
    "\n",
    "movie_SVD_CF.train()"
   ]
  },
  {
   "cell_type": "code",
   "execution_count": 7,
   "metadata": {},
   "outputs": [
    {
     "name": "stdout",
     "output_type": "stream",
     "text": [
      "1650\n"
     ]
    }
   ],
   "source": [
    "from RS_Item_CF import Item_based_CF\n",
    "\n",
    "movie_Item_based_CF = Item_based_CF(train_data)\n",
    "\n",
    "#基于kNN的协同过滤为memory based，没有训练过程\n",
    "#movie_Item_based_CF.train()"
   ]
  },
  {
   "cell_type": "code",
   "execution_count": 4,
   "metadata": {},
   "outputs": [
    {
     "name": "stdout",
     "output_type": "stream",
     "text": [
      "943\n"
     ]
    }
   ],
   "source": [
    "from RS_User_CF import User_based_CF\n",
    "\n",
    "movie_User_based_CF = User_based_CF(train_data)\n",
    "\n",
    "#基于kNN的协同过滤为memory based，没有训练过程\n",
    "#movie_Item_based_CF.train()"
   ]
  },
  {
   "cell_type": "markdown",
   "metadata": {},
   "source": [
    "## 读取测试数据"
   ]
  },
  {
   "cell_type": "code",
   "execution_count": 5,
   "metadata": {},
   "outputs": [],
   "source": [
    "\"\"\"\n",
    "u1.base/u1.test 有4列：\n",
    "user：用户ID\n",
    "movieid：movieID\n",
    "rating：用户打分\n",
    "timestamp：表示用户打分的时间，unix seconds since 1/1/1970 UTC\n",
    "\"\"\"\n",
    "\n",
    "# 读入数据\n",
    "u_cols = ['user', 'movieid', 'rating', 'timestamp']\n",
    "df_test = pd.read_csv('u1.test', sep='\\t', names=u_cols,encoding='latin-1')\n",
    "\n",
    "df_test.head()\n",
    "\n",
    "df_test.drop(['timestamp'], axis=1, inplace=True)\n",
    "test_data = df_test.values"
   ]
  },
  {
   "cell_type": "markdown",
   "metadata": {},
   "source": [
    "## 测试"
   ]
  },
  {
   "cell_type": "code",
   "execution_count": 6,
   "metadata": {},
   "outputs": [
    {
     "name": "stdout",
     "output_type": "stream",
     "text": [
      "the rmse on test data is  0.928942037192\n"
     ]
    }
   ],
   "source": [
    "rate_pre_SVD = movie_SVD_CF.test(test_data)"
   ]
  },
  {
   "cell_type": "markdown",
   "metadata": {},
   "source": [
    "k=20, step = 100: 测试误差(0.93)和训练误差(0.83)相差较多，多拟和？"
   ]
  },
  {
   "cell_type": "code",
   "execution_count": 8,
   "metadata": {},
   "outputs": [
    {
     "name": "stdout",
     "output_type": "stream",
     "text": [
      "the test data size is  (20000, 3)\n",
      "{}\n",
      "the rmse on test data is  1.04918773579\n"
     ]
    }
   ],
   "source": [
    "rate_pre_Item = movie_Item_based_CF.test(test_data)"
   ]
  },
  {
   "cell_type": "code",
   "execution_count": 6,
   "metadata": {},
   "outputs": [
    {
     "name": "stdout",
     "output_type": "stream",
     "text": [
      "the test data size is  (20000, 3)\n",
      "the rmse on test data is  1.02090065906\n"
     ]
    }
   ],
   "source": [
    "rate_pre_User= movie_User_based_CF.test(test_data)"
   ]
  },
  {
   "cell_type": "code",
   "execution_count": null,
   "metadata": {
    "collapsed": true
   },
   "outputs": [],
   "source": [
    "u_cols = ['user', 'movieid', 'rating', 'timestamp']"
   ]
  }
 ],
 "metadata": {
  "kernelspec": {
   "display_name": "Python 2",
   "language": "python",
   "name": "python2"
  },
  "language_info": {
   "codemirror_mode": {
    "name": "ipython",
    "version": 2
   },
   "file_extension": ".py",
   "mimetype": "text/x-python",
   "name": "python",
   "nbconvert_exporter": "python",
   "pygments_lexer": "ipython2",
   "version": "2.7.14"
  }
 },
 "nbformat": 4,
 "nbformat_minor": 2
}
