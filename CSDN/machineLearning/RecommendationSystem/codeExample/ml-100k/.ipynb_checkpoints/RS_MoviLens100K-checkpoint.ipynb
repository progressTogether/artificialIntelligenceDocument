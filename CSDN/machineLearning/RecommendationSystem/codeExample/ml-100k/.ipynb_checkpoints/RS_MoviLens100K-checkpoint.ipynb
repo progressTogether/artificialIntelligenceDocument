{
 "cells": [
  {
   "cell_type": "markdown",
   "metadata": {},
   "source": [
    "# 推荐系统 on MovieLens的数据集"
   ]
  },
  {
   "cell_type": "code",
   "execution_count": 2,
   "metadata": {},
   "outputs": [],
   "source": [
    "#读取训练数据（或测试数据）\n",
    "def loadMovieLens(filename='u1.base'):        \n",
    "    #加载数据  \n",
    "    R={}  \n",
    "    #user id | item id | rating | timestamp\n",
    "    for line in open(filename,'r'):  \n",
    "        (user,movieid,rating,ts)=line.split('\\t')  \n",
    "        R.setdefault(user,{})  \n",
    "        R[user][movieid]=float(rating)  \n",
    "    return R  \n",
    "\n",
    "train_R = loadMovieLens(filename='u1.base')\n",
    "test_R = loadMovieLens(filename='u1.test')"
   ]
  },
  {
   "cell_type": "code",
   "execution_count": null,
   "metadata": {
    "collapsed": true
   },
   "outputs": [],
   "source": []
  }
 ],
 "metadata": {
  "kernelspec": {
   "display_name": "Python 2",
   "language": "python",
   "name": "python2"
  },
  "language_info": {
   "codemirror_mode": {
    "name": "ipython",
    "version": 2
   },
   "file_extension": ".py",
   "mimetype": "text/x-python",
   "name": "python",
   "nbconvert_exporter": "python",
   "pygments_lexer": "ipython2",
   "version": "2.7.14"
  }
 },
 "nbformat": 4,
 "nbformat_minor": 2
}
