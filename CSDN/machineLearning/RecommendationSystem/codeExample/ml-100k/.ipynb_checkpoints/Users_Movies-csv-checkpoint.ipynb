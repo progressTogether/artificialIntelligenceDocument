{
 "cells": [
  {
   "cell_type": "markdown",
   "metadata": {},
   "source": [
    "# 推荐系统 on MovieLens的数据集"
   ]
  },
  {
   "cell_type": "markdown",
   "metadata": {},
   "source": [
    "# 用户和Movis关联关系处理"
   ]
  },
  {
   "cell_type": "code",
   "execution_count": 1,
   "metadata": {
    "collapsed": true
   },
   "outputs": [],
   "source": [
    "import pandas as pd\n",
    "import numpy as np\n",
    "\n",
    "#保存训练数据\n",
    "import cPickle\n",
    "\n",
    "import numpy as np"
   ]
  },
  {
   "cell_type": "markdown",
   "metadata": {},
   "source": [
    "## 读取训练数据"
   ]
  },
  {
   "cell_type": "code",
   "execution_count": 2,
   "metadata": {},
   "outputs": [
    {
     "data": {
      "text/html": [
       "<div>\n",
       "<style>\n",
       "    .dataframe thead tr:only-child th {\n",
       "        text-align: right;\n",
       "    }\n",
       "\n",
       "    .dataframe thead th {\n",
       "        text-align: left;\n",
       "    }\n",
       "\n",
       "    .dataframe tbody tr th {\n",
       "        vertical-align: top;\n",
       "    }\n",
       "</style>\n",
       "<table border=\"1\" class=\"dataframe\">\n",
       "  <thead>\n",
       "    <tr style=\"text-align: right;\">\n",
       "      <th></th>\n",
       "      <th>user</th>\n",
       "      <th>movieid</th>\n",
       "      <th>rating</th>\n",
       "      <th>timestamp</th>\n",
       "    </tr>\n",
       "  </thead>\n",
       "  <tbody>\n",
       "    <tr>\n",
       "      <th>0</th>\n",
       "      <td>1</td>\n",
       "      <td>1</td>\n",
       "      <td>5</td>\n",
       "      <td>874965758</td>\n",
       "    </tr>\n",
       "    <tr>\n",
       "      <th>1</th>\n",
       "      <td>1</td>\n",
       "      <td>2</td>\n",
       "      <td>3</td>\n",
       "      <td>876893171</td>\n",
       "    </tr>\n",
       "    <tr>\n",
       "      <th>2</th>\n",
       "      <td>1</td>\n",
       "      <td>3</td>\n",
       "      <td>4</td>\n",
       "      <td>878542960</td>\n",
       "    </tr>\n",
       "    <tr>\n",
       "      <th>3</th>\n",
       "      <td>1</td>\n",
       "      <td>4</td>\n",
       "      <td>3</td>\n",
       "      <td>876893119</td>\n",
       "    </tr>\n",
       "    <tr>\n",
       "      <th>4</th>\n",
       "      <td>1</td>\n",
       "      <td>5</td>\n",
       "      <td>3</td>\n",
       "      <td>889751712</td>\n",
       "    </tr>\n",
       "  </tbody>\n",
       "</table>\n",
       "</div>"
      ],
      "text/plain": [
       "   user  movieid  rating  timestamp\n",
       "0     1        1       5  874965758\n",
       "1     1        2       3  876893171\n",
       "2     1        3       4  878542960\n",
       "3     1        4       3  876893119\n",
       "4     1        5       3  889751712"
      ]
     },
     "execution_count": 2,
     "metadata": {},
     "output_type": "execute_result"
    }
   ],
   "source": [
    " \"\"\"\n",
    "u1.base/u1.test 有4列：\n",
    "user：用户ID\n",
    "movieid：movieID\n",
    "rating：用户打分\n",
    "timestamp：表示用户打分的时间，unix seconds since 1/1/1970 UTC\n",
    "\"\"\"\n",
    "\n",
    "# 读入数据\n",
    "u_cols = ['user', 'movieid', 'rating', 'timestamp']\n",
    "df_train = pd.read_csv('u1.base', sep='\\t', names=u_cols,encoding='latin-1')\n",
    "\n",
    "df_train.head()"
   ]
  },
  {
   "cell_type": "code",
   "execution_count": 3,
   "metadata": {
    "scrolled": true
   },
   "outputs": [
    {
     "name": "stdout",
     "output_type": "stream",
     "text": [
      "<class 'pandas.core.frame.DataFrame'>\n",
      "RangeIndex: 80000 entries, 0 to 79999\n",
      "Data columns (total 4 columns):\n",
      "user         80000 non-null int64\n",
      "movieid      80000 non-null int64\n",
      "rating       80000 non-null int64\n",
      "timestamp    80000 non-null int64\n",
      "dtypes: int64(4)\n",
      "memory usage: 2.4 MB\n"
     ]
    }
   ],
   "source": [
    "df_train.info()"
   ]
  },
  {
   "cell_type": "code",
   "execution_count": 4,
   "metadata": {
    "collapsed": true
   },
   "outputs": [],
   "source": [
    "df_train.drop(['timestamp'], axis=1, inplace=True)\n",
    "train_data = df_train.values"
   ]
  },
  {
   "cell_type": "markdown",
   "metadata": {},
   "source": [
    "## 训练模型"
   ]
  },
  {
   "cell_type": "code",
   "execution_count": 10,
   "metadata": {
    "scrolled": true
   },
   "outputs": [
    {
     "name": "stdout",
     "output_type": "stream",
     "text": [
      "the  0 -th  step is running\n",
      "the rmse of this step on train data is  0.985640039415\n",
      "the  1 -th  step is running\n",
      "the rmse of this step on train data is  0.942361135846\n",
      "the  2 -th  step is running\n",
      "the rmse of this step on train data is  0.933300326863\n",
      "the  3 -th  step is running\n",
      "the rmse of this step on train data is  0.92655167108\n",
      "the  4 -th  step is running\n",
      "the rmse of this step on train data is  0.921813431048\n",
      "the  5 -th  step is running\n",
      "the rmse of this step on train data is  0.916173982586\n",
      "the  6 -th  step is running\n",
      "the rmse of this step on train data is  0.911895633801\n",
      "the  7 -th  step is running\n",
      "the rmse of this step on train data is  0.907051990952\n",
      "the  8 -th  step is running\n",
      "the rmse of this step on train data is  0.902510663866\n",
      "the  9 -th  step is running\n",
      "the rmse of this step on train data is  0.898829519423\n",
      "the  10 -th  step is running\n",
      "the rmse of this step on train data is  0.8954327149\n",
      "the  11 -th  step is running\n",
      "the rmse of this step on train data is  0.892053565448\n",
      "the  12 -th  step is running\n",
      "the rmse of this step on train data is  0.889255799066\n",
      "the  13 -th  step is running\n",
      "the rmse of this step on train data is  0.886473469846\n",
      "the  14 -th  step is running\n",
      "the rmse of this step on train data is  0.883695197207\n",
      "the  15 -th  step is running\n",
      "the rmse of this step on train data is  0.881533876748\n",
      "the  16 -th  step is running\n",
      "the rmse of this step on train data is  0.879599789426\n",
      "the  17 -th  step is running\n",
      "the rmse of this step on train data is  0.877598345656\n",
      "the  18 -th  step is running\n",
      "the rmse of this step on train data is  0.875656749507\n",
      "the  19 -th  step is running\n",
      "the rmse of this step on train data is  0.874237981418\n",
      "the  20 -th  step is running\n",
      "the rmse of this step on train data is  0.872450391997\n",
      "the  21 -th  step is running\n",
      "the rmse of this step on train data is  0.871074459167\n",
      "the  22 -th  step is running\n",
      "the rmse of this step on train data is  0.869616804777\n",
      "the  23 -th  step is running\n",
      "the rmse of this step on train data is  0.868306316223\n",
      "the  24 -th  step is running\n",
      "the rmse of this step on train data is  0.867217950056\n",
      "the  25 -th  step is running\n",
      "the rmse of this step on train data is  0.86618153003\n",
      "the  26 -th  step is running\n",
      "the rmse of this step on train data is  0.865081380594\n",
      "the  27 -th  step is running\n",
      "the rmse of this step on train data is  0.864420388654\n",
      "the  28 -th  step is running\n",
      "the rmse of this step on train data is  0.863437311921\n",
      "the  29 -th  step is running\n",
      "the rmse of this step on train data is  0.862602734108\n",
      "the  30 -th  step is running\n",
      "the rmse of this step on train data is  0.861805000467\n",
      "the  31 -th  step is running\n",
      "the rmse of this step on train data is  0.861042411008\n",
      "the  32 -th  step is running\n",
      "the rmse of this step on train data is  0.8605120705\n",
      "the  33 -th  step is running\n",
      "the rmse of this step on train data is  0.859979366159\n",
      "the  34 -th  step is running\n",
      "the rmse of this step on train data is  0.859302851807\n",
      "the  35 -th  step is running\n",
      "the rmse of this step on train data is  0.858807974574\n",
      "the  36 -th  step is running\n",
      "the rmse of this step on train data is  0.858292429674\n",
      "the  37 -th  step is running\n",
      "the rmse of this step on train data is  0.857931194494\n",
      "the  38 -th  step is running\n",
      "the rmse of this step on train data is  0.857424223833\n",
      "the  39 -th  step is running\n",
      "the rmse of this step on train data is  0.857134977456\n",
      "the  40 -th  step is running\n",
      "the rmse of this step on train data is  0.856712721494\n",
      "the  41 -th  step is running\n",
      "the rmse of this step on train data is  0.856362234978\n",
      "the  42 -th  step is running\n",
      "the rmse of this step on train data is  0.856076180831\n",
      "the  43 -th  step is running\n",
      "the rmse of this step on train data is  0.855758846277\n",
      "the  44 -th  step is running\n",
      "the rmse of this step on train data is  0.855426293931\n",
      "the  45 -th  step is running\n",
      "the rmse of this step on train data is  0.855176135949\n",
      "the  46 -th  step is running\n",
      "the rmse of this step on train data is  0.854978962317\n",
      "the  47 -th  step is running\n",
      "the rmse of this step on train data is  0.85472558275\n",
      "the  48 -th  step is running\n",
      "the rmse of this step on train data is  0.854582687996\n",
      "the  49 -th  step is running\n",
      "the rmse of this step on train data is  0.854347288175\n"
     ]
    }
   ],
   "source": [
    "from RS_SVD_CF import SVD_CF\n",
    "\n",
    "movie_SVD_CF = SVD_CF(train_data)\n",
    "\n",
    "movie_SVD_CF.train()"
   ]
  },
  {
   "cell_type": "code",
   "execution_count": null,
   "metadata": {
    "collapsed": true
   },
   "outputs": [],
   "source": [
    "from RS_Item_CF import Item_based_CF\n",
    "\n",
    "movie_Item_based_CF = Item_based_CF(train_data)\n",
    "\n",
    "#基于kNN的协同过滤为memory based，没有训练过程\n",
    "#movie_Item_based_CF.train()"
   ]
  },
  {
   "cell_type": "code",
   "execution_count": 12,
   "metadata": {
    "scrolled": true
   },
   "outputs": [
    {
     "name": "stdout",
     "output_type": "stream",
     "text": [
      "finished reading train & test\n"
     ]
    }
   ],
   "source": [
    "#统计每个用户参加的事件   / 每个事件参加的用户\n",
    "moviesForUser = defaultdict(set)\n",
    "usersForMovie = defaultdict(set)\n",
    "    \n",
    "for filename in [\"u1.base\", \"u1.test\"]:\n",
    "    #user id | item id | rating | timestamp\n",
    "    for line in open(filename,'r'):  #对每条记录\n",
    "        (user,movieid,rating,ts)=line.split('\\t')\n",
    "        \n",
    "        user_int = int(user)-1   #索引从0开始\n",
    "        movieid_int = int(movieid)-1\n",
    "               \n",
    "        #倒排表\n",
    "        moviesForUser[user_int].add(movieid_int)    #该用户对这个电影进行了打分\n",
    "        usersForMovie[movieid_int].add(user_int)    #该事件被用户参加\n",
    "\n",
    "##统计每个用户参加的事件\n",
    "cPickle.dump(moviesForUser, open(\"PE_moviesForUser.pkl\", 'wb'))\n",
    "##统计参加事件的用户\n",
    "cPickle.dump(usersForMovie, open(\"PE_usersForMoive.pkl\", 'wb'))\n",
    "\n",
    "#用户-电影关系矩阵表（打分），可用于后续LFM/SVD++处理的输入\n",
    "#这是一个稀疏矩阵，记录用户对每个电影的打分\n",
    "userMovieScores = ss.dok_matrix((n_Users, n_Movies))\n",
    "    \n",
    "#从训练文件读取数据\n",
    "filename = \"u1.base\"\n",
    "#user id | item id | rating | timestamp\n",
    "for line in open(filename,'r'):  #对每条记录\n",
    "    (user,movieid,rating,ts)=line.split('\\t')\n",
    "    \n",
    "    #下标从0开始\n",
    "    user_int = int(user)-1   #索引从0开始\n",
    "    movieid_int = int(movieid)-1\n",
    "\n",
    "    userMovieScores[user_int, movieid_int] = float(rating)\n",
    " \n",
    "#保存用户-事件关系矩阵R，以备后用\n",
    "sio.mmwrite(\"PE_userMovieScores\", userMovieScores)\n",
    "\n",
    "\n",
    "# 为了防止不必要的计算，我们找出来所有关联的用户 或者 关联的event\n",
    "# 所谓的关联用户，指的是至少在同一个event上有行为的用户pair\n",
    "# 关联的event指的是至少同一个user有行为的event pair\n",
    "uniqueUserPairs = set()\n",
    "uniqueMoviePairs = set()\n",
    "for movie in range(n_Movies):\n",
    "    users = usersForMovie[movie]\n",
    "    if len(users) > 2:\n",
    "        uniqueUserPairs.update(itertools.combinations(users, 2))\n",
    "        \n",
    "for user in range(n_Users):\n",
    "    movies = moviesForUser[user]\n",
    "    if len(movies) > 2:\n",
    "        uniqueMoviePairs.update(itertools.combinations(movies, 2))\n",
    " \n",
    "#保存用户-事件关系对索引表\n",
    "cPickle.dump(uniqueUserPairs, open(\"FE_uniqueUserPairs.pkl\", 'wb'))\n",
    "cPickle.dump(uniqueMoviePairs, open(\"PE_uniqueMoviePairs.pkl\", 'wb'))\n",
    "\n",
    "print \"finished reading train & test\""
   ]
  },
  {
   "cell_type": "markdown",
   "metadata": {},
   "source": [
    "## 读取测试数据"
   ]
  },
  {
   "cell_type": "code",
   "execution_count": 6,
   "metadata": {},
   "outputs": [
    {
     "data": {
      "text/html": [
       "<div>\n",
       "<style>\n",
       "    .dataframe thead tr:only-child th {\n",
       "        text-align: right;\n",
       "    }\n",
       "\n",
       "    .dataframe thead th {\n",
       "        text-align: left;\n",
       "    }\n",
       "\n",
       "    .dataframe tbody tr th {\n",
       "        vertical-align: top;\n",
       "    }\n",
       "</style>\n",
       "<table border=\"1\" class=\"dataframe\">\n",
       "  <thead>\n",
       "    <tr style=\"text-align: right;\">\n",
       "      <th></th>\n",
       "      <th>user</th>\n",
       "      <th>movieid</th>\n",
       "      <th>rating</th>\n",
       "      <th>timestamp</th>\n",
       "    </tr>\n",
       "  </thead>\n",
       "  <tbody>\n",
       "    <tr>\n",
       "      <th>0</th>\n",
       "      <td>1</td>\n",
       "      <td>6</td>\n",
       "      <td>5</td>\n",
       "      <td>887431973</td>\n",
       "    </tr>\n",
       "    <tr>\n",
       "      <th>1</th>\n",
       "      <td>1</td>\n",
       "      <td>10</td>\n",
       "      <td>3</td>\n",
       "      <td>875693118</td>\n",
       "    </tr>\n",
       "    <tr>\n",
       "      <th>2</th>\n",
       "      <td>1</td>\n",
       "      <td>12</td>\n",
       "      <td>5</td>\n",
       "      <td>878542960</td>\n",
       "    </tr>\n",
       "    <tr>\n",
       "      <th>3</th>\n",
       "      <td>1</td>\n",
       "      <td>14</td>\n",
       "      <td>5</td>\n",
       "      <td>874965706</td>\n",
       "    </tr>\n",
       "    <tr>\n",
       "      <th>4</th>\n",
       "      <td>1</td>\n",
       "      <td>17</td>\n",
       "      <td>3</td>\n",
       "      <td>875073198</td>\n",
       "    </tr>\n",
       "  </tbody>\n",
       "</table>\n",
       "</div>"
      ],
      "text/plain": [
       "   user  movieid  rating  timestamp\n",
       "0     1        6       5  887431973\n",
       "1     1       10       3  875693118\n",
       "2     1       12       5  878542960\n",
       "3     1       14       5  874965706\n",
       "4     1       17       3  875073198"
      ]
     },
     "execution_count": 6,
     "metadata": {},
     "output_type": "execute_result"
    }
   ],
   "source": [
    "\"\"\"\n",
    "u1.base/u1.test 有4列：\n",
    "user：用户ID\n",
    "movieid：movieID\n",
    "rating：用户打分\n",
    "timestamp：表示用户打分的时间，unix seconds since 1/1/1970 UTC\n",
    "\"\"\"\n",
    "\n",
    "# 读入数据\n",
    "u_cols = ['user', 'movieid', 'rating', 'timestamp']\n",
    "df_test = pd.read_csv('u1.test', sep='\\t', names=u_cols,encoding='latin-1')\n",
    "\n",
    "df_test.head()"
   ]
  },
  {
   "cell_type": "code",
   "execution_count": 7,
   "metadata": {
    "collapsed": true
   },
   "outputs": [],
   "source": [
    "df_test.drop(['timestamp'], axis=1, inplace=True)\n",
    "test_data = df_test.values"
   ]
  },
  {
   "cell_type": "markdown",
   "metadata": {},
   "source": [
    "## 测试"
   ]
  },
  {
   "cell_type": "code",
   "execution_count": 11,
   "metadata": {},
   "outputs": [
    {
     "name": "stdout",
     "output_type": "stream",
     "text": [
      "the rmse on test data is  0.93095817678\n"
     ]
    }
   ],
   "source": [
    "rate_pre = movie_SVD_CF.test(test_data)"
   ]
  },
  {
   "cell_type": "markdown",
   "metadata": {},
   "source": [
    "k=20, step = 100: 测试误差(0.93)和训练误差(0.83)相差较多，多拟和？"
   ]
  }
 ],
 "metadata": {
  "kernelspec": {
   "display_name": "Python 2",
   "language": "python",
   "name": "python2"
  },
  "language_info": {
   "codemirror_mode": {
    "name": "ipython",
    "version": 2
   },
   "file_extension": ".py",
   "mimetype": "text/x-python",
   "name": "python",
   "nbconvert_exporter": "python",
   "pygments_lexer": "ipython2",
   "version": "2.7.14"
  }
 },
 "nbformat": 4,
 "nbformat_minor": 2
}
